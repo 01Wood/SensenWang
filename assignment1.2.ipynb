{
  "metadata": {
    "language_info": {
      "codemirror_mode": {
        "name": "python",
        "version": 3
      },
      "file_extension": ".py",
      "mimetype": "text/x-python",
      "name": "python",
      "nbconvert_exporter": "python",
      "pygments_lexer": "ipython3",
      "version": "3.8"
    },
    "kernelspec": {
      "name": "python",
      "display_name": "Python (Pyodide)",
      "language": "python"
    }
  },
  "nbformat_minor": 4,
  "nbformat": 4,
  "cells": [
    {
      "cell_type": "code",
      "source": "import numpy as np # import the library\na = np.arange(20) # define an array with 20 elements\nprint(a)",
      "metadata": {
        "trusted": true
      },
      "execution_count": 19,
      "outputs": [
        {
          "name": "stdout",
          "text": "[ 0  1  2  3  4  5  6  7  8  9 10 11 12 13 14 15 16 17 18 19]\n",
          "output_type": "stream"
        }
      ]
    },
    {
      "cell_type": "code",
      "source": "# creat specific array\na = np.zeros(20)\nb = np.ones(20)\nc = np.zeros(b.size)+6\nprint(a)\nprint(b)\nprint(c)",
      "metadata": {
        "trusted": true
      },
      "execution_count": 21,
      "outputs": [
        {
          "name": "stdout",
          "text": "[0. 0. 0. 0. 0. 0. 0. 0. 0. 0. 0. 0. 0. 0. 0. 0. 0. 0. 0. 0.]\n[1. 1. 1. 1. 1. 1. 1. 1. 1. 1. 1. 1. 1. 1. 1. 1. 1. 1. 1. 1.]\n[6. 6. 6. 6. 6. 6. 6. 6. 6. 6. 6. 6. 6. 6. 6. 6. 6. 6. 6. 6.]\n",
          "output_type": "stream"
        }
      ]
    },
    {
      "cell_type": "code",
      "source": "\na = np.random.rand(20) #define an array with 20 random numbers from 0 to 1\nprint(a) # print it\nprint(a*5) # generate a random array from 0 to 5",
      "metadata": {
        "trusted": true
      },
      "execution_count": 26,
      "outputs": [
        {
          "name": "stdout",
          "text": "[0.89866591 0.62896362 0.57184752 0.33284304 0.17135501 0.27851687\n 0.19097854 0.77469462 0.68241903 0.17213917 0.30845504 0.00648667\n 0.45740978 0.4029213  0.33722549 0.88699106 0.49094119 0.2473839\n 0.70436339 0.97753199]\n[4.49332957 3.1448181  2.85923761 1.66421522 0.85677507 1.39258435\n 0.95489269 3.87347311 3.41209517 0.86069585 1.54227519 0.03243336\n 2.28704889 2.01460648 1.68612744 4.43495532 2.45470597 1.2369195\n 3.52181697 4.88765995]\n",
          "output_type": "stream"
        }
      ]
    },
    {
      "cell_type": "code",
      "source": "\n# use random numbers to populate an array\na = np.arange(20) # define an array with 20 elements\nprint(a) # print it\nprint(a[-1]) # print the last element\nprint(a[1:5]) # print the element from index 1 to 5\nprint(a[1:10:3])# print the element from index 1 to 10 with skip 2 elements",
      "metadata": {
        "trusted": true
      },
      "execution_count": 30,
      "outputs": [
        {
          "name": "stdout",
          "text": "[ 0  1  2  3  4  5  6  7  8  9 10 11 12 13 14 15 16 17 18 19]\n19\n[1 2 3 4]\n[1 4 7]\n",
          "output_type": "stream"
        }
      ]
    },
    {
      "cell_type": "code",
      "source": "# print index of the array\na = np.zeros((5, 10))## difine an 2D array, \n\nprint(a, '\\n')\n\n# shape of the array\nprint('len =',len(a)) # get the rows\nprint('len =' , len(a[0]))# get the cols\nprint('shape =',a.shape) # get the size",
      "metadata": {
        "trusted": true
      },
      "execution_count": 34,
      "outputs": [
        {
          "name": "stdout",
          "text": "[[0. 0. 0. 0. 0. 0. 0. 0. 0. 0.]\n [0. 0. 0. 0. 0. 0. 0. 0. 0. 0.]\n [0. 0. 0. 0. 0. 0. 0. 0. 0. 0.]\n [0. 0. 0. 0. 0. 0. 0. 0. 0. 0.]\n [0. 0. 0. 0. 0. 0. 0. 0. 0. 0.]] \n\nlen = 5\nlen = 10\nshape = (5, 10)\n",
          "output_type": "stream"
        }
      ]
    },
    {
      "cell_type": "code",
      "source": "# pick two output valuables from a method\na = np.zeros((6,12))## difine an 2D array\nnx,ny = a.shape # get the length in row and col\nprint('nx =', nx) # print the length of row\nprint('ny =', ny) # print the length of col",
      "metadata": {
        "trusted": true
      },
      "execution_count": 38,
      "outputs": [
        {
          "name": "stdout",
          "text": "nx = 6\nny = 12\n",
          "output_type": "stream"
        }
      ]
    },
    {
      "cell_type": "code",
      "source": "# ways to generate a constant array\na = np.zeros((5,10)) + 6 ## difine an 2D (5,10) array each zero + 6\nprint(a, '\\n')\n\nb = np.ones((5,10)) * 7 # difine an 2D (5,10) array each zero * 7\nprint(b, '\\n')\n\nc = np.full((5,10),8) # difine an 2D (5,10) array with 8\nprint(c)",
      "metadata": {
        "trusted": true
      },
      "execution_count": 42,
      "outputs": [
        {
          "name": "stdout",
          "text": "[[6. 6. 6. 6. 6. 6. 6. 6. 6. 6.]\n [6. 6. 6. 6. 6. 6. 6. 6. 6. 6.]\n [6. 6. 6. 6. 6. 6. 6. 6. 6. 6.]\n [6. 6. 6. 6. 6. 6. 6. 6. 6. 6.]\n [6. 6. 6. 6. 6. 6. 6. 6. 6. 6.]] \n\n[[7. 7. 7. 7. 7. 7. 7. 7. 7. 7.]\n [7. 7. 7. 7. 7. 7. 7. 7. 7. 7.]\n [7. 7. 7. 7. 7. 7. 7. 7. 7. 7.]\n [7. 7. 7. 7. 7. 7. 7. 7. 7. 7.]\n [7. 7. 7. 7. 7. 7. 7. 7. 7. 7.]] \n\n[[8 8 8 8 8 8 8 8 8 8]\n [8 8 8 8 8 8 8 8 8 8]\n [8 8 8 8 8 8 8 8 8 8]\n [8 8 8 8 8 8 8 8 8 8]\n [8 8 8 8 8 8 8 8 8 8]]\n",
          "output_type": "stream"
        }
      ]
    },
    {
      "cell_type": "code",
      "source": "# identity matrix function eye()\n# identity matrix function eye()\na = np.eye(10) #  # difine an 2D (10,10) array, diagonal is 1\nprint(a)",
      "metadata": {
        "trusted": true
      },
      "execution_count": 43,
      "outputs": [
        {
          "name": "stdout",
          "text": "[[1. 0. 0. 0. 0.]\n [0. 1. 0. 0. 0.]\n [0. 0. 1. 0. 0.]\n [0. 0. 0. 1. 0.]\n [0. 0. 0. 0. 1.]]\n",
          "output_type": "stream"
        }
      ]
    },
    {
      "cell_type": "code",
      "source": "# index\na = np.array(([1,2,3], [3,4,5], [5,6,7])) # difine an 2D (3,3) array, each element was defined\nprint(a)",
      "metadata": {
        "trusted": true
      },
      "execution_count": 45,
      "outputs": [
        {
          "name": "stdout",
          "text": "[[1 2 3]\n [3 4 5]\n [5 6 7]]\n",
          "output_type": "stream"
        }
      ]
    },
    {
      "cell_type": "code",
      "source": "# slice index\na = np.array([[1,2,3,4], [5,6,7,8], [9,10,11,12]]) # difine an 2D (3,4) array, each element was defined\nprint(a)\nb = a[:3, 1:3] # b is subset of a, the row is 0-3, col is 1-3\nprint(b)",
      "metadata": {
        "trusted": true
      },
      "execution_count": 47,
      "outputs": [
        {
          "name": "stdout",
          "text": "[[ 1  2  3  4]\n [ 5  6  7  8]\n [ 9 10 11 12]]\n[[ 2  3]\n [ 6  7]\n [10 11]]\n",
          "output_type": "stream"
        }
      ]
    },
    {
      "cell_type": "code",
      "source": "# mix integer and slice index\na = np.array([[1,2,3,4], [5,6,7,8], [9,10,11,12]]) # difine an 2D (3,4) array, each element was defined\nprint(a)\nb = a[1, :] # b is subset of a, pick the second row\nprint(b)",
      "metadata": {
        "trusted": true
      },
      "execution_count": 48,
      "outputs": [
        {
          "name": "stdout",
          "text": "[[ 1  2  3  4]\n [ 5  6  7  8]\n [ 9 10 11 12]]\n[5 6 7 8]\n",
          "output_type": "stream"
        }
      ]
    },
    {
      "cell_type": "code",
      "source": "# use two list as index\na = np.array([[1,2,3,4], [5,6,7,8], [9,10,11,12]])\nprint(a, '\\n')\nprint(a[[0,1,2],[2,1,2]]) # output [0,2], [1,1], [2,2]",
      "metadata": {
        "trusted": true
      },
      "execution_count": 49,
      "outputs": [
        {
          "name": "stdout",
          "text": "[[ 1  2  3  4]\n [ 5  6  7  8]\n [ 9 10 11 12]] \n\n[ 3  6 11]\n",
          "output_type": "stream"
        }
      ]
    },
    {
      "cell_type": "code",
      "source": "# update values\na = np.zeros((3,3))\nfor i in range(3):# for loop\n    a[:,i] = i\nprint('before\\n',a)\n\na[1,:] += 10 # add 10 to the second row\nprint('after\\n',a)",
      "metadata": {
        "trusted": true
      },
      "execution_count": 50,
      "outputs": [
        {
          "name": "stdout",
          "text": "before\n [[0. 1. 2.]\n [0. 1. 2.]\n [0. 1. 2.]]\nafter\n [[ 0.  1.  2.]\n [10. 11. 12.]\n [ 0.  1.  2.]]\n",
          "output_type": "stream"
        }
      ]
    },
    {
      "cell_type": "code",
      "source": "a = np.zeros((3,3))\nfor i in range(3):\n    a[:,i] = i\nprint('before\\n',a)\n\na[:,2] = 5.# change the element value in third col\nprint('after\\n',a)",
      "metadata": {
        "trusted": true
      },
      "execution_count": 51,
      "outputs": [
        {
          "name": "stdout",
          "text": "before\n [[0. 1. 2.]\n [0. 1. 2.]\n [0. 1. 2.]]\nafter\n [[0. 1. 5.]\n [0. 1. 5.]\n [0. 1. 5.]]\n",
          "output_type": "stream"
        }
      ]
    },
    {
      "cell_type": "code",
      "source": "# type of data in the array\na=np.array(([1,1],[1,1]))\nprint(a)\nprint(a.dtype) # print the data type of elements of a",
      "metadata": {
        "trusted": true
      },
      "execution_count": 52,
      "outputs": [
        {
          "name": "stdout",
          "text": "[[1 1]\n [1 1]]\nint32\n",
          "output_type": "stream"
        }
      ]
    },
    {
      "cell_type": "code",
      "source": "\na=np.array(([1.,1],[1,1]))\nprint(a)\nprint(a.dtype) # print the data type of elements of a",
      "metadata": {
        "trusted": true
      },
      "execution_count": 53,
      "outputs": [
        {
          "name": "stdout",
          "text": "[[1. 1.]\n [1. 1.]]\nfloat64\n",
          "output_type": "stream"
        }
      ]
    },
    {
      "cell_type": "code",
      "source": "\na=np.array(([1.,1],[1,1]))>2\nprint(a) # print true of elements of a > 2\nprint(a.dtype) # print the data type of elements of a",
      "metadata": {
        "trusted": true
      },
      "execution_count": 54,
      "outputs": [
        {
          "name": "stdout",
          "text": "[[False False]\n [False False]]\nbool\n",
          "output_type": "stream"
        }
      ]
    },
    {
      "cell_type": "code",
      "source": "\na=np.array((['1','1'],['1','1']))\nprint(a)\nprint(a.dtype)  # print the data type of elements of a",
      "metadata": {
        "trusted": true
      },
      "execution_count": 55,
      "outputs": [
        {
          "name": "stdout",
          "text": "[['1' '1']\n ['1' '1']]\n<U1\n",
          "output_type": "stream"
        }
      ]
    },
    {
      "cell_type": "code",
      "source": "a=np.array((['1','1'],['1','1']),dtype=float) # define the data type is float\nprint(a)\nprint(a.dtype) # print the data type of elements of a",
      "metadata": {
        "trusted": true
      },
      "execution_count": 57,
      "outputs": [
        {
          "name": "stdout",
          "text": "[[1. 1.]\n [1. 1.]]\nfloat64\n",
          "output_type": "stream"
        }
      ]
    },
    {
      "cell_type": "code",
      "source": "# most numpy functions can be applied directly to an array\na = np.zeros((3,3))\nfor i in range(3):\n    a[:,i] = i\nprint(a)\nprint(a >= 1) # if elements of a > 1, return true, else return false\nprint(np.sqrt(a)) # calculate the sqrt root of every elements",
      "metadata": {
        "trusted": true
      },
      "execution_count": 61,
      "outputs": [
        {
          "name": "stdout",
          "text": "[[0. 1. 2.]\n [0. 1. 2.]\n [0. 1. 2.]]\n[[False  True  True]\n [False  True  True]\n [False  True  True]]\n[[0.         1.         1.41421356]\n [0.         1.         1.41421356]\n [0.         1.         1.41421356]]\n",
          "output_type": "stream"
        }
      ]
    },
    {
      "cell_type": "code",
      "source": "# inversion\nA = np.matrix([[1,0,0],\n               [0,1,0],\n               [0,0,1]])# define a matrix\n\nB = np.matrix([[3,1],\n               [1,3]])\n\nprint(A, '\\n')\nprint(np.trace(A), '\\n') # print tarce of a \nprint(np.invert(A), '\\n') # print invert of a \n\nprint(B, '\\n')\nprint(np.trace(B), '\\n') # print tarce of b\nprint(np.invert(B))      # print invert of b ",
      "metadata": {
        "trusted": true
      },
      "execution_count": 62,
      "outputs": [
        {
          "name": "stdout",
          "text": "[[1 0 0]\n [0 1 0]\n [0 0 1]] \n\n3 \n\n[[-2 -1 -1]\n [-1 -2 -1]\n [-1 -1 -2]] \n\n[[3 1]\n [1 3]] \n\n6 \n\n[[-4 -2]\n [-2 -4]]\n",
          "output_type": "stream"
        }
      ]
    },
    {
      "cell_type": "code",
      "source": "# numpy.linalg.eig(a)     Calculate the eigenvalues and eigenvectors of the square matrix.\n# numpy.linalg.eigvals(a) Calculate the eigenvalues of the square matrix.\n\nx = np.diag([1,2,3])\nprint(np.linalg.eigvals(x))\n\na, b = np.linalg.eig(x)\nprint('eigenvalue：', a, '\\n')\nprint('eigenvector：\\n', b, '\\n')\n\n\n# verify that the eigenvalues and eigenvectors are correct\nfor i in range(3):       \n    if np.allclose(a[i] * b[:, i], np.dot(x, b[:, i])):\n        print('Correct')\n    else:\n        print('Wrong')",
      "metadata": {
        "trusted": true
      },
      "execution_count": 63,
      "outputs": [
        {
          "name": "stdout",
          "text": "[1. 2. 3.]\neigenvalue： [1. 2. 3.] \n\neigenvector：\n [[1. 0. 0.]\n [0. 1. 0.]\n [0. 0. 1.]] \n\nCorrect\nCorrect\nCorrect\n",
          "output_type": "stream"
        }
      ]
    },
    {
      "cell_type": "code",
      "source": "# two arrays\na = np.zeros((3,3))\nb = np.zeros((3,3))\nfor i in range(3):\n    a[:,i] = i\n    b[i,:] = i\nprint('a=\\n', a)\nprint('b=\\n', b)\n\nprint('a+b=\\n', a + b)\nprint('a*b=\\n', a * b)\nprint('a/b=\\n', a / b) # notice the first row of the result",
      "metadata": {
        "trusted": true
      },
      "execution_count": 64,
      "outputs": [
        {
          "name": "stdout",
          "text": "a=\n [[0. 1. 2.]\n [0. 1. 2.]\n [0. 1. 2.]]\nb=\n [[0. 0. 0.]\n [1. 1. 1.]\n [2. 2. 2.]]\na+b=\n [[0. 1. 2.]\n [1. 2. 3.]\n [2. 3. 4.]]\na*b=\n [[0. 0. 0.]\n [0. 1. 2.]\n [0. 2. 4.]]\na/b=\n [[nan inf inf]\n [0.  1.  2. ]\n [0.  0.5 1. ]]\n",
          "output_type": "stream"
        }
      ]
    },
    {
      "cell_type": "code",
      "source": "# broadcasting\n# add the vector v to each row of the matrix x,\n# storing the result in the matrix y\n\nx = np.array([[1,2,3], [4,5,6], [7,8,9], [10, 11, 12]])\nv = np.array([2, 0, 1])\ny = x + v # print  x + v in each element\nz = x * v # print  x * v in each element\nprint(y, '\\n')\nprint(z)",
      "metadata": {
        "trusted": true
      },
      "execution_count": 65,
      "outputs": [
        {
          "name": "stdout",
          "text": "[[ 3  2  4]\n [ 6  5  7]\n [ 9  8 10]\n [12 11 13]] \n\n[[ 2  0  3]\n [ 8  0  6]\n [14  0  9]\n [20  0 12]]\n",
          "output_type": "stream"
        }
      ]
    },
    {
      "cell_type": "code",
      "source": "\n# dot product\nx = np.array([1,2,3,4,5])\ny = np.array([2,3,4,5,6])\nz = np.dot(x,y)  #  The dot product of two vectors\nprint(z) # print the dot product of x and y\n\nx = np.array([[1,2,3],[3,4,5],[6,7,8]])\ny = np.array([[5,4,2],[1,7,9],[0,4,5]])\nz= np.dot(x,y)   #  matrix multiplication\nprint(z) # print the dot product of x and y",
      "metadata": {
        "trusted": true
      },
      "execution_count": 66,
      "outputs": [
        {
          "name": "stdout",
          "text": "70\n[[  7  30  35]\n [ 19  60  67]\n [ 37 105 115]]\n",
          "output_type": "stream"
        }
      ]
    },
    {
      "cell_type": "code",
      "source": "a = np.array([1,2])\nb = np.array([3,4]) \nc = np.array([[3],[4]])\n\nprint(b*a) # print the result of b * a\nprint(a*c)  # print the result of a * c\n            #  A matrix multiplies its elements, so it satisfies the commutative law\n\nprint(c*a)\n\nprint(np.dot(a,b))    #  matrix multiplication\nprint(np.dot(a,c))\n# print(np.dot(c,a)) #There will be an error",
      "metadata": {
        "trusted": true
      },
      "execution_count": 70,
      "outputs": [
        {
          "name": "stdout",
          "text": "[3 8]\n[[3 6]\n [4 8]]\n[[3 6]\n [4 8]]\n11\n[11]\n",
          "output_type": "stream"
        }
      ]
    },
    {
      "cell_type": "code",
      "source": "\n# cross product\na = [3,4,5]\nb = [5,6,7]\n\nc = np.cross(a,b) \nprint(c)  # print the cross product of a and b",
      "metadata": {
        "trusted": true
      },
      "execution_count": 74,
      "outputs": [
        {
          "name": "stdout",
          "text": "[-2  4 -2]\n",
          "output_type": "stream"
        }
      ]
    },
    {
      "cell_type": "code",
      "source": "# matrix multiplication\na = np.array([[1,2], [3,4]])\nb = np.array([[2,3], [4,5]])\n\nc = np.matmul(a,b)\nprint(c)",
      "metadata": {
        "trusted": true
      },
      "execution_count": 72,
      "outputs": [
        {
          "name": "stdout",
          "text": "[[10 13]\n [22 29]]\n",
          "output_type": "stream"
        }
      ]
    },
    {
      "cell_type": "code",
      "source": "# transpose\na = np.array(([1,2], [3,4],[ 5,6]))\nprint('a=\\n',a) # print a\nprint('a.T=\\n',a.T) # print transposed a\nprint('a.transpose()=\\n',a.transpose())",
      "metadata": {
        "trusted": true
      },
      "execution_count": 75,
      "outputs": [
        {
          "name": "stdout",
          "text": "a=\n [[1 2]\n [3 4]\n [5 6]]\na.T=\n [[1 3 5]\n [2 4 6]]\na.transpose()=\n [[1 3 5]\n [2 4 6]]\n",
          "output_type": "stream"
        }
      ]
    },
    {
      "cell_type": "code",
      "source": "# reshape\na = np.array(([1,2], [3,4], [5,6])) # define a in 3 rows and 2 cols\nprint('a\\n', a)\n\nb = a.reshape((2,3)) # reshape a in 2 rows and 3 cols\nprint('b\\n', b)\n\nc = a.flatten() # reshape a as 1 row\nprint('c\\n', c)\n\n# C order, row order\nd = a.flatten(order = 'C') \nprint('d\\n', d)\n\n# Fortran order, column order\ne = a.flatten(order = 'F')\nprint('e\\n', e)",
      "metadata": {
        "trusted": true
      },
      "execution_count": 76,
      "outputs": [
        {
          "name": "stdout",
          "text": "a\n [[1 2]\n [3 4]\n [5 6]]\nb\n [[1 2 3]\n [4 5 6]]\nc\n [1 2 3 4 5 6]\nd\n [1 2 3 4 5 6]\ne\n [1 3 5 2 4 6]\n",
          "output_type": "stream"
        }
      ]
    },
    {
      "cell_type": "code",
      "source": "# stacking\na=np.full((3,2),1.) # define a as 3 rows and 2 cols with 1\nb=np.full((3,2),2.) # define b as 3 rows and 2 cols with 2\nc=np.full((3,2),3.) # define c as 3 rows and 2 cols with 3\n\nprint('a=',a)\nprint('b=',b)\nprint('c=',c)\n\nprint('hstack=',np.hstack((a,b,c))) \nprint('vstack=',np.vstack((a,b,c)))",
      "metadata": {
        "trusted": true
      },
      "execution_count": 77,
      "outputs": [
        {
          "name": "stdout",
          "text": "a= [[1. 1.]\n [1. 1.]\n [1. 1.]]\nb= [[2. 2.]\n [2. 2.]\n [2. 2.]]\nc= [[3. 3.]\n [3. 3.]\n [3. 3.]]\nhstack= [[1. 1. 2. 2. 3. 3.]\n [1. 1. 2. 2. 3. 3.]\n [1. 1. 2. 2. 3. 3.]]\nvstack= [[1. 1.]\n [1. 1.]\n [1. 1.]\n [2. 2.]\n [2. 2.]\n [2. 2.]\n [3. 3.]\n [3. 3.]\n [3. 3.]]\n",
          "output_type": "stream"
        }
      ]
    },
    {
      "cell_type": "code",
      "source": "# difference of python sum and numpy.sum\n\ndata = np.arange(1000)\n\n%timeit sum(data)# timing sum all elements of data\n%timeit np.sum(data)",
      "metadata": {
        "trusted": true
      },
      "execution_count": 85,
      "outputs": [
        {
          "name": "stdout",
          "text": "164 µs ± 1.9 µs per loop (mean ± std. dev. of 7 runs, 10,000 loops each)\n7.37 µs ± 60.6 ns per loop (mean ± std. dev. of 7 runs, 100,000 loops each)\n",
          "output_type": "stream"
        }
      ]
    },
    {
      "cell_type": "code",
      "source": "\na = np.array([[8, -6, 2], [-4, 11, -7], [4, -7, 6]])\nb = np.array([[28], [-40], [33]])\nx = np.linalg.solve(a, b)\nprint(a)\nprint(x)",
      "metadata": {
        "trusted": true
      },
      "execution_count": 89,
      "outputs": [
        {
          "name": "stdout",
          "text": "[[ 8 -6  2]\n [-4 11 -7]\n [ 4 -7  6]]\n[[ 2.]\n [-1.]\n [ 3.]]\n",
          "output_type": "stream"
        }
      ]
    },
    {
      "cell_type": "code",
      "source": "\nm = np.array([[1, -2, 1],[0, 2, -8],[-4, 5, 9]])\nv = np.array([0, 8, -9])\nr = np.linalg.solve(m, v) # solve the function\nprint('result：')\nname = ['X1', 'X2', 'X3']\nfor i in range(len(name)):\n    print(name[i] + '=' + str(r[i]))",
      "metadata": {
        "trusted": true
      },
      "execution_count": 90,
      "outputs": [
        {
          "name": "stdout",
          "text": "result：\nX1=29.0\nX2=16.0\nX3=3.0\n",
          "output_type": "stream"
        }
      ]
    },
    {
      "cell_type": "code",
      "source": "mat = np.vstack([[1,1,1],[1,-1,2],[2,0,3]])\nsol = np.vstack([3,2,1])\ntry:\n    npl.solve(mat,sol)\nexcept:\n    print(np.hstack([mat,sol]))\n    print('Not solveable. Adding rows 1 and 2 contradicts row 3.')",
      "metadata": {
        "trusted": true
      },
      "execution_count": 91,
      "outputs": [
        {
          "name": "stdout",
          "text": "[[ 1  1  1  3]\n [ 1 -1  2  2]\n [ 2  0  3  1]]\nNot solveable. Adding rows 1 and 2 contradicts row 3.\n",
          "output_type": "stream"
        }
      ]
    },
    {
      "cell_type": "code",
      "source": "# (whether all eigenvalues are positive)\nA = np.arange(16).reshape(4,4)\nprint(A)\n\nA = A + A.T  # Convert square matrices to symmetric matrices\nprint(A)\n\nB = np.linalg.eigvals(A)\nprint(B)\n\nif np.all(B>0):\n    print('Yes')\nelse:\n    print('No')",
      "metadata": {
        "trusted": true
      },
      "execution_count": 92,
      "outputs": [
        {
          "name": "stdout",
          "text": "[[ 0  1  2  3]\n [ 4  5  6  7]\n [ 8  9 10 11]\n [12 13 14 15]]\n[[ 0  5 10 15]\n [ 5 10 15 20]\n [10 15 20 25]\n [15 20 25 30]]\n[ 6.74165739e+01+0.00000000e+00j -7.41657387e+00+0.00000000e+00j\n -8.88285420e-17+1.82759332e-15j -8.88285420e-17-1.82759332e-15j]\nNo\n",
          "output_type": "stream"
        }
      ]
    },
    {
      "cell_type": "code",
      "source": "#coding:utf8\n\ndef gram_schmidt(A):\n    \"\"\"Gram-schmidt Orthogonalization\"\"\"\n    Q=np.zeros_like(A)\n    cnt = 0\n    for a in A.T:\n        u = np.copy(a)\n        for i in range(0, cnt):\n            u -= np.dot(np.dot(Q[:, i].T, a), Q[:, i]) \n        e = u / np.linalg.norm(u)  # normalization \n        Q[:, cnt] = e\n        cnt += 1\n    R = np.dot(Q.T, A)\n    return (Q, R)\n\nnp.set_printoptions(precision=4, suppress=True)\nA = np.array([[6, 5, 0],[5, -1, 4],[5, 1, -14],[0, 4, 3]], dtype = float)\n\n(Q, R) = gram_schmidt(A)\nprint(Q)\nprint(R)\nprint(np.dot(Q, R))",
      "metadata": {
        "trusted": true
      },
      "execution_count": 93,
      "outputs": [
        {
          "name": "stdout",
          "text": "[[ 0.647   0.5096  0.1799]\n [ 0.5392 -0.4811  0.5743]\n [ 0.5392 -0.1305 -0.7902]\n [ 0.      0.7013  0.1162]]\n[[ 9.2736  3.235  -5.3916]\n [ 0.      5.7039  2.006 ]\n [-0.      0.     13.7079]]\n[[  6.   5.   0.]\n [  5.  -1.   4.]\n [  5.   1. -14.]\n [  0.   4.   3.]]\n",
          "output_type": "stream"
        }
      ]
    },
    {
      "cell_type": "code",
      "source": "def givens_rotation(A):\n    \"\"\"\"Givens Rotations\"\"\"\n    (r, c) = np.shape(A)\n    Q = np.identity(r)\n    R = np.copy(A)\n    (rows, cols) = np.tril_indices(r, -1, c)\n    for (row, col) in zip(rows, cols):\n        if R[row, col] != 0:  \n            r_ = np.hypot(R[col, col], R[row, col])  # d\n            c = R[col, col]/r_\n            s = -R[row, col]/r_\n            G = np.identity(r)\n            G[[col, row], [col, row]] = c\n            G[row, col] = s\n            G[col, row] = -s\n            R = np.dot(G, R)   # R=G(n-1,n)*...*G(2n)*...*G(23,1n)*...*G(12)*A\n            Q = np.dot(Q, G.T)  # Q=G(n-1,n).T*...*G(2n).T*...*G(23,1n).T*...*G(12).T\n    return (Q, R)\n\nnp.set_printoptions(precision=4, suppress=True)\nA = np.array([[6, 5, 0],[5, -1, 4],[5, 1, -14],[0, 4, 3]], dtype = float)\n\n(Q, R) = givens_rotation(A)\nprint(Q)\nprint(R)\nprint (np.dot(Q, R))",
      "metadata": {
        "trusted": true
      },
      "execution_count": 94,
      "outputs": [
        {
          "name": "stdout",
          "text": "[[ 0.647   0.5096  0.1799 -0.5379]\n [ 0.5392 -0.4811  0.5743  0.3848]\n [ 0.5392 -0.1305 -0.7902  0.2607]\n [ 0.      0.7013  0.1162  0.7034]]\n[[ 9.2736  3.235  -5.3916]\n [ 0.      5.7039  2.006 ]\n [-0.      0.     13.7079]\n [-0.     -0.      0.    ]]\n[[  6.   5.   0.]\n [  5.  -1.   4.]\n [  5.   1. -14.]\n [ -0.   4.   3.]]\n",
          "output_type": "stream"
        }
      ]
    },
    {
      "cell_type": "code",
      "source": "def householder_reflection(A):\n    \"\"\"Householder Triangularization\"\"\"\n    (r, c) = np.shape(A)\n    Q = np.identity(r)\n    R = np.copy(A)\n    for cnt in range(r - 1):\n        x = R[cnt:, cnt]\n        e = np.zeros_like(x)\n        e[0] = np.linalg.norm(x)\n        u = x - e\n        v = u / np.linalg.norm(u)\n        Q_cnt = np.identity(r)\n        Q_cnt[cnt:, cnt:] -= 2.0 * np.outer(v, v)\n        R = np.dot(Q_cnt, R)  # R=H(n-1)*...*H(2)*H(1)*A\n        Q = np.dot(Q, Q_cnt)  # Q=H(n-1)*...*H(2)*H(1)  H is the self inverse matrix\n    return (Q, R)\n\nnp.set_printoptions(precision=4, suppress=True)\nA = np.array([[6, 5, 0],[5, -1, 4],[5, 1, -14],[0, 4, 3]], dtype = float)\n\n(Q, R) = householder_reflection(A)\nprint(Q)\nprint(R)\nprint(np.dot(Q, R))",
      "metadata": {
        "trusted": true
      },
      "execution_count": 95,
      "outputs": [
        {
          "name": "stdout",
          "text": "[[ 0.647   0.5096  0.1799  0.5379]\n [ 0.5392 -0.4811  0.5743 -0.3848]\n [ 0.5392 -0.1305 -0.7902 -0.2607]\n [ 0.      0.7013  0.1162 -0.7034]]\n[[ 9.2736  3.235  -5.3916]\n [ 0.      5.7039  2.006 ]\n [-0.      0.     13.7079]\n [ 0.      0.     -0.    ]]\n[[  6.   5.  -0.]\n [  5.  -1.   4.]\n [  5.   1. -14.]\n [ -0.   4.   3.]]\n",
          "output_type": "stream"
        }
      ]
    },
    {
      "cell_type": "code",
      "source": "# creating a 1-D list (Horizontal)\nlist1 = [5, 6, 9]\n \n# creating a 1-D list (Horizontal)\nlist2 = [1, 2, 3]\n\n# creating first vector\nvector1 = np.array(list1)\n \n# printing vector1\nprint(\"First Vector   : \" + str(vector1))\n \n# creating second vector\nvector2 = np.array(list2)\n \n# printing vector2\nprint(\"Second Vector  : \" + str(vector2))\n\naddition = vector1 + vector2\n \n# printing addition vector\nprint(\"Vector Addition: \" + str(addition))\n\nscalarmult = 2 * vector1\n\n# printing scalar multiplication vector\nprint(\"Vector Addition: \" + str(scalarmult))\n\n# as long as vector1 and vector2 belongs to U, \n# addition vector and scalarmult vector both belongs to U",
      "metadata": {
        "trusted": true
      },
      "execution_count": 96,
      "outputs": [
        {
          "name": "stdout",
          "text": "First Vector   : [5 6 9]\nSecond Vector  : [1 2 3]\nVector Addition: [ 6  8 12]\nVector Addition: [10 12 18]\n",
          "output_type": "stream"
        }
      ]
    },
    {
      "cell_type": "code",
      "source": "",
      "metadata": {},
      "execution_count": null,
      "outputs": []
    }
  ]
}