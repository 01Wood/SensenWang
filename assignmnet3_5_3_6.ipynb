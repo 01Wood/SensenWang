{
  "nbformat": 4,
  "nbformat_minor": 0,
  "metadata": {
    "colab": {
      "provenance": [],
      "authorship_tag": "ABX9TyMY1/3B/xdbgYDDpfAqgRDV",
      "include_colab_link": true
    },
    "kernelspec": {
      "name": "python3",
      "display_name": "Python 3"
    },
    "language_info": {
      "name": "python"
    },
    "widgets": {
      "application/vnd.jupyter.widget-state+json": {
        "14da5ea230c042e48cd4f9ab1021a8d3": {
          "model_module": "@jupyter-widgets/controls",
          "model_name": "VBoxModel",
          "model_module_version": "1.5.0",
          "state": {
            "_dom_classes": [
              "widget-interact"
            ],
            "_model_module": "@jupyter-widgets/controls",
            "_model_module_version": "1.5.0",
            "_model_name": "VBoxModel",
            "_view_count": null,
            "_view_module": "@jupyter-widgets/controls",
            "_view_module_version": "1.5.0",
            "_view_name": "VBoxView",
            "box_style": "",
            "children": [
              "IPY_MODEL_62d472f1257948f79324d45db8cab54d",
              "IPY_MODEL_15d521d3253849f2b4476ed6f40a9da1",
              "IPY_MODEL_52c525f51316485b900d3c41024740c7",
              "IPY_MODEL_e2b475cb18cb484b80060c59b70f87a1",
              "IPY_MODEL_770dd5c96a664905bacaa455b9246b23"
            ],
            "layout": "IPY_MODEL_f7ddc35450c04865b5249af8e4fb7432"
          }
        },
        "62d472f1257948f79324d45db8cab54d": {
          "model_module": "@jupyter-widgets/controls",
          "model_name": "FloatLogSliderModel",
          "model_module_version": "1.5.0",
          "state": {
            "_dom_classes": [],
            "_model_module": "@jupyter-widgets/controls",
            "_model_module_version": "1.5.0",
            "_model_name": "FloatLogSliderModel",
            "_view_count": null,
            "_view_module": "@jupyter-widgets/controls",
            "_view_module_version": "1.5.0",
            "_view_name": "FloatLogSliderView",
            "base": 10,
            "continuous_update": false,
            "description": "C",
            "description_tooltip": null,
            "disabled": false,
            "layout": "IPY_MODEL_bcab558a5c77490b8c1b1ff7808dbc10",
            "max": 4,
            "min": -4,
            "orientation": "horizontal",
            "readout": true,
            "readout_format": ".3g",
            "step": 0.5,
            "style": "IPY_MODEL_8ac570e4e8e04731925a1d8742754363",
            "value": 0.31622776601683794
          }
        },
        "15d521d3253849f2b4476ed6f40a9da1": {
          "model_module": "@jupyter-widgets/controls",
          "model_name": "DropdownModel",
          "model_module_version": "1.5.0",
          "state": {
            "_dom_classes": [],
            "_model_module": "@jupyter-widgets/controls",
            "_model_module_version": "1.5.0",
            "_model_name": "DropdownModel",
            "_options_labels": [
              "linear",
              "poly1",
              "poly2",
              "poly3",
              "poly4",
              "poly5",
              "poly6",
              "poly7",
              "poly8",
              "rbf"
            ],
            "_view_count": null,
            "_view_module": "@jupyter-widgets/controls",
            "_view_module_version": "1.5.0",
            "_view_name": "DropdownView",
            "description": "kernel",
            "description_tooltip": null,
            "disabled": false,
            "index": 0,
            "layout": "IPY_MODEL_2dd7c4de23b6418ebe7ca51fe6a32e8e",
            "style": "IPY_MODEL_ebae5fba93dd4c239fc52f06b3941375"
          }
        },
        "52c525f51316485b900d3c41024740c7": {
          "model_module": "@jupyter-widgets/controls",
          "model_name": "FloatSliderModel",
          "model_module_version": "1.5.0",
          "state": {
            "_dom_classes": [],
            "_model_module": "@jupyter-widgets/controls",
            "_model_module_version": "1.5.0",
            "_model_name": "FloatSliderModel",
            "_view_count": null,
            "_view_module": "@jupyter-widgets/controls",
            "_view_module_version": "1.5.0",
            "_view_name": "FloatSliderView",
            "continuous_update": false,
            "description": "expand:",
            "description_tooltip": null,
            "disabled": false,
            "layout": "IPY_MODEL_3aa2dd167e4d4190a4155395d48434c7",
            "max": 10,
            "min": 0,
            "orientation": "horizontal",
            "readout": true,
            "readout_format": ".2f",
            "step": 0.1,
            "style": "IPY_MODEL_ce03aad9efc64d09a4ce2d8e9e810789",
            "value": 3.1
          }
        },
        "e2b475cb18cb484b80060c59b70f87a1": {
          "model_module": "@jupyter-widgets/controls",
          "model_name": "FloatSliderModel",
          "model_module_version": "1.5.0",
          "state": {
            "_dom_classes": [],
            "_model_module": "@jupyter-widgets/controls",
            "_model_module_version": "1.5.0",
            "_model_name": "FloatSliderModel",
            "_view_count": null,
            "_view_module": "@jupyter-widgets/controls",
            "_view_module_version": "1.5.0",
            "_view_name": "FloatSliderView",
            "continuous_update": false,
            "description": "contour intensity:",
            "description_tooltip": null,
            "disabled": false,
            "layout": "IPY_MODEL_299d286fb1a141c8afcc022279b12b7a",
            "max": 0.9,
            "min": 0.1,
            "orientation": "horizontal",
            "readout": true,
            "readout_format": ".2f",
            "step": 0.1,
            "style": "IPY_MODEL_b1ffeb34bac84dc6947c4588a726a574",
            "value": 0.5
          }
        },
        "770dd5c96a664905bacaa455b9246b23": {
          "model_module": "@jupyter-widgets/output",
          "model_name": "OutputModel",
          "model_module_version": "1.0.0",
          "state": {
            "_dom_classes": [],
            "_model_module": "@jupyter-widgets/output",
            "_model_module_version": "1.0.0",
            "_model_name": "OutputModel",
            "_view_count": null,
            "_view_module": "@jupyter-widgets/output",
            "_view_module_version": "1.0.0",
            "_view_name": "OutputView",
            "layout": "IPY_MODEL_19cc2757a5e345f685ceb048acb95f17",
            "msg_id": "",
            "outputs": [
              {
                "output_type": "display_data",
                "data": {
                  "text/plain": "<Figure size 432x288 with 1 Axes>",
                  "image/png": "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\n"
                },
                "metadata": {
                  "needs_background": "light"
                }
              }
            ]
          }
        },
        "f7ddc35450c04865b5249af8e4fb7432": {
          "model_module": "@jupyter-widgets/base",
          "model_name": "LayoutModel",
          "model_module_version": "1.2.0",
          "state": {
            "_model_module": "@jupyter-widgets/base",
            "_model_module_version": "1.2.0",
            "_model_name": "LayoutModel",
            "_view_count": null,
            "_view_module": "@jupyter-widgets/base",
            "_view_module_version": "1.2.0",
            "_view_name": "LayoutView",
            "align_content": null,
            "align_items": null,
            "align_self": null,
            "border": null,
            "bottom": null,
            "display": null,
            "flex": null,
            "flex_flow": null,
            "grid_area": null,
            "grid_auto_columns": null,
            "grid_auto_flow": null,
            "grid_auto_rows": null,
            "grid_column": null,
            "grid_gap": null,
            "grid_row": null,
            "grid_template_areas": null,
            "grid_template_columns": null,
            "grid_template_rows": null,
            "height": null,
            "justify_content": null,
            "justify_items": null,
            "left": null,
            "margin": null,
            "max_height": null,
            "max_width": null,
            "min_height": null,
            "min_width": null,
            "object_fit": null,
            "object_position": null,
            "order": null,
            "overflow": null,
            "overflow_x": null,
            "overflow_y": null,
            "padding": null,
            "right": null,
            "top": null,
            "visibility": null,
            "width": null
          }
        },
        "bcab558a5c77490b8c1b1ff7808dbc10": {
          "model_module": "@jupyter-widgets/base",
          "model_name": "LayoutModel",
          "model_module_version": "1.2.0",
          "state": {
            "_model_module": "@jupyter-widgets/base",
            "_model_module_version": "1.2.0",
            "_model_name": "LayoutModel",
            "_view_count": null,
            "_view_module": "@jupyter-widgets/base",
            "_view_module_version": "1.2.0",
            "_view_name": "LayoutView",
            "align_content": null,
            "align_items": null,
            "align_self": null,
            "border": null,
            "bottom": null,
            "display": null,
            "flex": null,
            "flex_flow": null,
            "grid_area": null,
            "grid_auto_columns": null,
            "grid_auto_flow": null,
            "grid_auto_rows": null,
            "grid_column": null,
            "grid_gap": null,
            "grid_row": null,
            "grid_template_areas": null,
            "grid_template_columns": null,
            "grid_template_rows": null,
            "height": null,
            "justify_content": null,
            "justify_items": null,
            "left": null,
            "margin": null,
            "max_height": null,
            "max_width": null,
            "min_height": null,
            "min_width": null,
            "object_fit": null,
            "object_position": null,
            "order": null,
            "overflow": null,
            "overflow_x": null,
            "overflow_y": null,
            "padding": null,
            "right": null,
            "top": null,
            "visibility": null,
            "width": null
          }
        },
        "8ac570e4e8e04731925a1d8742754363": {
          "model_module": "@jupyter-widgets/controls",
          "model_name": "SliderStyleModel",
          "model_module_version": "1.5.0",
          "state": {
            "_model_module": "@jupyter-widgets/controls",
            "_model_module_version": "1.5.0",
            "_model_name": "SliderStyleModel",
            "_view_count": null,
            "_view_module": "@jupyter-widgets/base",
            "_view_module_version": "1.2.0",
            "_view_name": "StyleView",
            "description_width": "",
            "handle_color": null
          }
        },
        "2dd7c4de23b6418ebe7ca51fe6a32e8e": {
          "model_module": "@jupyter-widgets/base",
          "model_name": "LayoutModel",
          "model_module_version": "1.2.0",
          "state": {
            "_model_module": "@jupyter-widgets/base",
            "_model_module_version": "1.2.0",
            "_model_name": "LayoutModel",
            "_view_count": null,
            "_view_module": "@jupyter-widgets/base",
            "_view_module_version": "1.2.0",
            "_view_name": "LayoutView",
            "align_content": null,
            "align_items": null,
            "align_self": null,
            "border": null,
            "bottom": null,
            "display": null,
            "flex": null,
            "flex_flow": null,
            "grid_area": null,
            "grid_auto_columns": null,
            "grid_auto_flow": null,
            "grid_auto_rows": null,
            "grid_column": null,
            "grid_gap": null,
            "grid_row": null,
            "grid_template_areas": null,
            "grid_template_columns": null,
            "grid_template_rows": null,
            "height": null,
            "justify_content": null,
            "justify_items": null,
            "left": null,
            "margin": null,
            "max_height": null,
            "max_width": null,
            "min_height": null,
            "min_width": null,
            "object_fit": null,
            "object_position": null,
            "order": null,
            "overflow": null,
            "overflow_x": null,
            "overflow_y": null,
            "padding": null,
            "right": null,
            "top": null,
            "visibility": null,
            "width": null
          }
        },
        "ebae5fba93dd4c239fc52f06b3941375": {
          "model_module": "@jupyter-widgets/controls",
          "model_name": "DescriptionStyleModel",
          "model_module_version": "1.5.0",
          "state": {
            "_model_module": "@jupyter-widgets/controls",
            "_model_module_version": "1.5.0",
            "_model_name": "DescriptionStyleModel",
            "_view_count": null,
            "_view_module": "@jupyter-widgets/base",
            "_view_module_version": "1.2.0",
            "_view_name": "StyleView",
            "description_width": ""
          }
        },
        "3aa2dd167e4d4190a4155395d48434c7": {
          "model_module": "@jupyter-widgets/base",
          "model_name": "LayoutModel",
          "model_module_version": "1.2.0",
          "state": {
            "_model_module": "@jupyter-widgets/base",
            "_model_module_version": "1.2.0",
            "_model_name": "LayoutModel",
            "_view_count": null,
            "_view_module": "@jupyter-widgets/base",
            "_view_module_version": "1.2.0",
            "_view_name": "LayoutView",
            "align_content": null,
            "align_items": null,
            "align_self": null,
            "border": null,
            "bottom": null,
            "display": null,
            "flex": null,
            "flex_flow": null,
            "grid_area": null,
            "grid_auto_columns": null,
            "grid_auto_flow": null,
            "grid_auto_rows": null,
            "grid_column": null,
            "grid_gap": null,
            "grid_row": null,
            "grid_template_areas": null,
            "grid_template_columns": null,
            "grid_template_rows": null,
            "height": null,
            "justify_content": null,
            "justify_items": null,
            "left": null,
            "margin": null,
            "max_height": null,
            "max_width": null,
            "min_height": null,
            "min_width": null,
            "object_fit": null,
            "object_position": null,
            "order": null,
            "overflow": null,
            "overflow_x": null,
            "overflow_y": null,
            "padding": null,
            "right": null,
            "top": null,
            "visibility": null,
            "width": null
          }
        },
        "ce03aad9efc64d09a4ce2d8e9e810789": {
          "model_module": "@jupyter-widgets/controls",
          "model_name": "SliderStyleModel",
          "model_module_version": "1.5.0",
          "state": {
            "_model_module": "@jupyter-widgets/controls",
            "_model_module_version": "1.5.0",
            "_model_name": "SliderStyleModel",
            "_view_count": null,
            "_view_module": "@jupyter-widgets/base",
            "_view_module_version": "1.2.0",
            "_view_name": "StyleView",
            "description_width": "",
            "handle_color": null
          }
        },
        "299d286fb1a141c8afcc022279b12b7a": {
          "model_module": "@jupyter-widgets/base",
          "model_name": "LayoutModel",
          "model_module_version": "1.2.0",
          "state": {
            "_model_module": "@jupyter-widgets/base",
            "_model_module_version": "1.2.0",
            "_model_name": "LayoutModel",
            "_view_count": null,
            "_view_module": "@jupyter-widgets/base",
            "_view_module_version": "1.2.0",
            "_view_name": "LayoutView",
            "align_content": null,
            "align_items": null,
            "align_self": null,
            "border": null,
            "bottom": null,
            "display": null,
            "flex": null,
            "flex_flow": null,
            "grid_area": null,
            "grid_auto_columns": null,
            "grid_auto_flow": null,
            "grid_auto_rows": null,
            "grid_column": null,
            "grid_gap": null,
            "grid_row": null,
            "grid_template_areas": null,
            "grid_template_columns": null,
            "grid_template_rows": null,
            "height": null,
            "justify_content": null,
            "justify_items": null,
            "left": null,
            "margin": null,
            "max_height": null,
            "max_width": null,
            "min_height": null,
            "min_width": null,
            "object_fit": null,
            "object_position": null,
            "order": null,
            "overflow": null,
            "overflow_x": null,
            "overflow_y": null,
            "padding": null,
            "right": null,
            "top": null,
            "visibility": null,
            "width": null
          }
        },
        "b1ffeb34bac84dc6947c4588a726a574": {
          "model_module": "@jupyter-widgets/controls",
          "model_name": "SliderStyleModel",
          "model_module_version": "1.5.0",
          "state": {
            "_model_module": "@jupyter-widgets/controls",
            "_model_module_version": "1.5.0",
            "_model_name": "SliderStyleModel",
            "_view_count": null,
            "_view_module": "@jupyter-widgets/base",
            "_view_module_version": "1.2.0",
            "_view_name": "StyleView",
            "description_width": "",
            "handle_color": null
          }
        },
        "19cc2757a5e345f685ceb048acb95f17": {
          "model_module": "@jupyter-widgets/base",
          "model_name": "LayoutModel",
          "model_module_version": "1.2.0",
          "state": {
            "_model_module": "@jupyter-widgets/base",
            "_model_module_version": "1.2.0",
            "_model_name": "LayoutModel",
            "_view_count": null,
            "_view_module": "@jupyter-widgets/base",
            "_view_module_version": "1.2.0",
            "_view_name": "LayoutView",
            "align_content": null,
            "align_items": null,
            "align_self": null,
            "border": null,
            "bottom": null,
            "display": null,
            "flex": null,
            "flex_flow": null,
            "grid_area": null,
            "grid_auto_columns": null,
            "grid_auto_flow": null,
            "grid_auto_rows": null,
            "grid_column": null,
            "grid_gap": null,
            "grid_row": null,
            "grid_template_areas": null,
            "grid_template_columns": null,
            "grid_template_rows": null,
            "height": null,
            "justify_content": null,
            "justify_items": null,
            "left": null,
            "margin": null,
            "max_height": null,
            "max_width": null,
            "min_height": null,
            "min_width": null,
            "object_fit": null,
            "object_position": null,
            "order": null,
            "overflow": null,
            "overflow_x": null,
            "overflow_y": null,
            "padding": null,
            "right": null,
            "top": null,
            "visibility": null,
            "width": null
          }
        }
      }
    }
  },
  "cells": [
    {
      "cell_type": "markdown",
      "metadata": {
        "id": "view-in-github",
        "colab_type": "text"
      },
      "source": [
        "<a href=\"https://colab.research.google.com/github/01Wood/SensenWang/blob/main/assignmnet3_5_3_6.ipynb\" target=\"_parent\"><img src=\"https://colab.research.google.com/assets/colab-badge.svg\" alt=\"Open In Colab\"/></a>"
      ]
    },
    {
      "cell_type": "markdown",
      "source": [
        "3.5 K-means\n",
        "\n",
        "Here we provide some examples of K-means using sklearn: https://scikit-learn.org/stable/modules/generated/sklearn.cluster.KMeans.html\n",
        "\n",
        "Copyright:"
      ],
      "metadata": {
        "id": "88OLnKmSua0T"
      }
    },
    {
      "cell_type": "code",
      "source": [
        "# import libraries\n",
        "from numpy import unique\n",
        "from numpy import where\n",
        "from sklearn.datasets import make_classification\n",
        "from sklearn.cluster import KMeans\n",
        "from sklearn.cluster import MiniBatchKMeans\n",
        "import matplotlib.pyplot as plt"
      ],
      "metadata": {
        "id": "L_t2xN2Fuby_"
      },
      "execution_count": 10,
      "outputs": []
    },
    {
      "cell_type": "markdown",
      "source": [
        "K-Means"
      ],
      "metadata": {
        "id": "oVcOJK-rudJb"
      }
    },
    {
      "cell_type": "code",
      "source": [
        "# Load the data\n",
        "# \"_\" hold the position of \"y\" but we are not interested in y here,\n",
        "# so we can use \"_\" instead of creating a variable y.\n",
        "X, _ = make_classification(n_samples=1000, n_features=2, \n",
        "                           n_informative=2, n_redundant=0, \n",
        "                           n_clusters_per_class=1, random_state=4)\n",
        "\n",
        "# Using the k-means method\n",
        "model = KMeans(n_clusters=2)\n",
        "model.fit(X)\n",
        "\n",
        "# Assign a cluster to each example.\n",
        "yhat = model.predict(X)\n",
        "\n",
        "# Retrieve a unique cluster.\n",
        "clusters = unique(yhat)\n",
        "\n",
        "# Create a scatter plot for the samples of each cluster.\n",
        "for cluster in clusters:\n",
        "    row_ix = where(yhat == cluster)\n",
        "    plt.scatter(X[row_ix, 0], X[row_ix, 1])\n",
        "    \n",
        "# Draw the scatter plot.\n",
        "plt.show()"
      ],
      "metadata": {
        "colab": {
          "base_uri": "https://localhost:8080/",
          "height": 265
        },
        "id": "348LaMikueQ1",
        "outputId": "3b34d198-299a-4481-dcff-919ea4060ff5"
      },
      "execution_count": 11,
      "outputs": [
        {
          "output_type": "display_data",
          "data": {
            "text/plain": [
              "<Figure size 432x288 with 1 Axes>"
            ],
            "image/png": "[encoded data removed]"
          },
          "metadata": {
            "needs_background": "light"
          }
        }
      ]
    },
    {
      "cell_type": "markdown",
      "source": [
        "Mini-Batch K-Means"
      ],
      "metadata": {
        "id": "ZmQux-64uggN"
      }
    },
    {
      "cell_type": "code",
      "source": [
        "# Data sources\n",
        "X, _ = make_classification(n_samples=1000, n_features=2, \n",
        "                           n_informative=2, n_redundant=0, \n",
        "                           n_clusters_per_class=1, random_state=4)\n",
        "\n",
        "# Using the mini-batch k-means method\n",
        "model = MiniBatchKMeans(n_clusters=2)\n",
        "model.fit(X)\n",
        "\n",
        "# Assign a cluster to each example.\n",
        "yhat = model.predict(X)\n",
        "\n",
        "# Retrieve a unique cluster.\n",
        "clusters = unique(yhat)\n",
        "\n",
        "# Create a scatter plot for the samples of each cluster.\n",
        "for cluster in clusters:\n",
        "    row_ix = where(yhat == cluster)\n",
        "    plt.scatter(X[row_ix, 0], X[row_ix, 1])\n",
        "    \n",
        "# Draw the scatter plot.\n",
        "plt.show()"
      ],
      "metadata": {
        "colab": {
          "base_uri": "https://localhost:8080/",
          "height": 265
        },
        "id": "CO5OAvLRuhoB",
        "outputId": "35985914-b50f-4c69-82b0-bc20da70f3ee"
      },
      "execution_count": 12,
      "outputs": [
        {
          "output_type": "display_data",
          "data": {
            "text/plain": [
              "<Figure size 432x288 with 1 Axes>"
            ],
            "image/png": "[encoded data removed]"
          },
          "metadata": {
            "needs_background": "light"
          }
        }
      ]
    },
    {
      "cell_type": "markdown",
      "source": [
        "3.6 Support Vector Machine - Examples\n",
        "\n",
        "Here, we provide three example of SVM, and introduce the sci-ki learn package: https://scikit-learn.org/stable/modules/svm.html\n",
        "\n",
        "Copyright:"
      ],
      "metadata": {
        "id": "9L6E0Xufujj6"
      }
    },
    {
      "cell_type": "code",
      "source": [
        "# For compatibility with Python 2\n",
        "from __future__ import print_function\n",
        "\n",
        "# To load datasets\n",
        "from sklearn import datasets\n",
        "from sklearn.datasets import make_blobs\n",
        "\n",
        "# To import the classifier (SVM classifier)\n",
        "from sklearn.svm import SVC\n",
        "from sklearn.svm import LinearSVC\n",
        "\n",
        "# To measure accuracy\n",
        "from sklearn import metrics\n",
        "from sklearn.metrics import confusion_matrix\n",
        "\n",
        "from sklearn.model_selection import train_test_split\n",
        "\n",
        "# To support plots\n",
        "from ipywidgets import interact\n",
        "import ipywidgets as widgets\n",
        "import matplotlib as mpl\n",
        "import matplotlib.pyplot as plt\n",
        "from matplotlib.colors import ListedColormap\n",
        "\n",
        "# To increase quality of figures\n",
        "plt.rcParams[\"figure.figsize\"] = (20, 10)\n",
        "\n",
        "# To display all the plots inline\n",
        "%matplotlib inline \n",
        "\n",
        "# Basics\n",
        "import numpy as np\n",
        "import math\n",
        "import cvxopt\n",
        "\n",
        "# To import the scalers\n",
        "from sklearn.preprocessing import MinMaxScaler\n",
        "\n",
        "class DummyScaler:\n",
        "    def fit(self, data):\n",
        "        pass\n",
        "    def transform(self, data):\n",
        "        return data\n",
        "\n",
        "def create_scaler_minmax():\n",
        "    return MinMaxScaler()"
      ],
      "metadata": {
        "id": "i_yanuaaumar"
      },
      "execution_count": 13,
      "outputs": []
    },
    {
      "cell_type": "markdown",
      "source": [
        "A Simple Walk-through of the Whole Pipeline\n",
        "Here we will build a SVM without using the sklearn SVC function, to show the math. Then we will also show the performance of the sklearn SVC function, to compare the results.\n",
        "\n",
        "1.1 Build the entire math model step by step\n",
        "\n",
        "First we define our SVM class, which contains functions that we will need later.\n",
        "\n",
        "Instead of using gradient descent to find the best fitting line as in the case of Linear Regression, we can directly solve for w and b using the Lagrangian.\n",
        "\n",
        "To learn more about python classes and OOP: http://hplgit.github.io/primer.html/doc/pub/class/._class-readable001.html"
      ],
      "metadata": {
        "id": "PJk10-70un-Q"
      }
    },
    {
      "cell_type": "code",
      "source": [
        "# be careful about the indentation in a long code block\n",
        "class SVM(object):\n",
        "  def fit(self, X, y):\n",
        "    n_samples, n_features = X.shape\n",
        "\n",
        "    K = np.zeros((n_samples, n_samples))\n",
        "    for i in range(n_samples):\n",
        "      for j in range(n_samples):\n",
        "        K[i,j] = np.dot(X[i], X[j])\n",
        "   \n",
        "    P = cvxopt.matrix(np.outer(y, y) * K)  # P = X^T X \n",
        "    q = cvxopt.matrix(np.ones(n_samples) * -1) # q = -1 (1xN)\n",
        "    A = cvxopt.matrix(y, (1, n_samples)) # A = y^T\n",
        "    b = cvxopt.matrix(0.0) # b = 0 \n",
        "    G = cvxopt.matrix(np.diag(np.ones(n_samples) * -1)) # -1 (NxN)\n",
        "    h = cvxopt.matrix(np.zeros(n_samples)) # 0 (1xN)\n",
        "    solution = cvxopt.solvers.qp(P, q, G, h, A, b)\n",
        "\n",
        "    a = np.ravel(solution['x']) # Lagrange multipliers\n",
        "    # Lagrange have non zero lagrange multipliers\n",
        "    sv = a > 1e-5\n",
        "    ind = np.arange(len(a))[sv]\n",
        "    self.a = a[sv]\n",
        "    self.sv = X[sv]\n",
        "    self.sv_y = y[sv]\n",
        "    self.b = 0  # Intercept\n",
        "    for n in range(len(self.a)):\n",
        "      self.b += self.sv_y[n]\n",
        "      self.b -= np.sum(self.a * self.sv_y * K[ind[n], sv])\n",
        "      self.b /= len(self.a)\n",
        "\n",
        "    # Weights\n",
        "    self.w = np.zeros(n_features)\n",
        "    for n in range(len(self.a)):\n",
        "      self.w += self.a[n] * self.sv_y[n] * self.sv[n]\n",
        "\n",
        "  def project(self, X):\n",
        "    return np.dot(X, self.w) + self.b\n",
        "\n",
        "  def predict(self, X):\n",
        "    return np.sign(self.project(X))"
      ],
      "metadata": {
        "id": "woDiwzZtupkt"
      },
      "execution_count": 14,
      "outputs": []
    },
    {
      "cell_type": "markdown",
      "source": [
        "\n",
        "Next we generate some linearly separable data.\n",
        "\n",
        "We label the negative samples as -1 instead of 0. The package cvxopt expects the data to be in a specific format which is why we take an intermediate step."
      ],
      "metadata": {
        "id": "SaPfGa4huq1B"
      }
    },
    {
      "cell_type": "code",
      "source": [
        "X, y = make_blobs(n_samples = 250, centers = 2,\n",
        "                  random_state = 0, cluster_std = 0.60)\n",
        "y[y == 0] = -1\n",
        "tmp = np.ones(len(X))\n",
        "y = tmp * y\n",
        "\n",
        "# plot the data we just generated\n",
        "plt.scatter(X[:, 0], X[:, 1], c = y, cmap = 'winter')"
      ],
      "metadata": {
        "colab": {
          "base_uri": "https://localhost:8080/",
          "height": 283
        },
        "id": "Rx1wr9tXusHe",
        "outputId": "c95c1278-0dfe-4999-d480-af102cafa199"
      },
      "execution_count": 15,
      "outputs": [
        {
          "output_type": "execute_result",
          "data": {
            "text/plain": [
              "<matplotlib.collections.PathCollection at 0x7f2d65274d50>"
            ]
          },
          "metadata": {},
          "execution_count": 15
        },
        {
          "output_type": "display_data",
          "data": {
            "text/plain": [
              "<Figure size 432x288 with 1 Axes>"
            ],
            "image/png": "[encoded data removed]"
          },
          "metadata": {
            "needs_background": "light"
          }
        }
      ]
    },
    {
      "cell_type": "markdown",
      "source": [
        "Then we can split the data into training and testing sets."
      ],
      "metadata": {
        "id": "Kl8tfTHoutdZ"
      }
    },
    {
      "cell_type": "code",
      "source": [
        "# split the data\n",
        "X_train, X_test, y_train, y_test = train_test_split(X, y, random_state=0)\n",
        "\n",
        "# initiate a new object of the SVM class we just created, so it can use all the functions we made inside that SVM class\n",
        "# svm is a model\n",
        "svm = SVM()\n",
        "\n",
        "# fit the training data to the model\n",
        "svm.fit(X_train, y_train)"
      ],
      "metadata": {
        "colab": {
          "base_uri": "https://localhost:8080/"
        },
        "id": "cHoGFqyguutG",
        "outputId": "c096fecd-81e7-4863-bba1-3193bbb2683a"
      },
      "execution_count": 16,
      "outputs": [
        {
          "output_type": "stream",
          "name": "stdout",
          "text": [
            "     pcost       dcost       gap    pres   dres\n",
            " 0: -1.8226e+01 -3.4458e+01  6e+02  2e+01  2e+00\n",
            " 1: -2.5252e+01 -1.8773e+01  2e+02  9e+00  7e-01\n",
            " 2: -5.3459e+01 -3.2711e+01  2e+02  7e+00  6e-01\n",
            " 3: -7.8360e+01 -2.6482e+01  1e+02  4e+00  3e-01\n",
            " 4: -5.6818e+00 -5.1750e+00  1e+01  2e-01  1e-02\n",
            " 5: -3.6906e+00 -4.1082e+00  4e-01  2e-15  9e-15\n",
            " 6: -4.0061e+00 -4.0104e+00  4e-03  2e-17  5e-15\n",
            " 7: -4.0094e+00 -4.0094e+00  4e-05  9e-16  5e-15\n",
            " 8: -4.0094e+00 -4.0094e+00  4e-07  1e-15  6e-15\n",
            "Optimal solution found.\n"
          ]
        }
      ]
    },
    {
      "cell_type": "markdown",
      "source": [
        "Next, we plot the decision boundary and support vectors."
      ],
      "metadata": {
        "id": "ZfBwrDTouv2l"
      }
    },
    {
      "cell_type": "code",
      "source": [
        "def f(x, w, b, c=0):\n",
        "    return (-w[0] * x - b + c) / w[1]\n",
        "plt.scatter(X_train[:, 0], X_train[:, 1], c=y_train, cmap='winter')\n",
        "\n",
        "# w.x + b = 0\n",
        "a0 = -4; a1 = f(a0, svm.w, svm.b)\n",
        "b0 = 4; b1 = f(b0, svm.w, svm.b)\n",
        "plt.plot([a0,b0], [a1,b1], 'k')\n",
        "\n",
        "# w.x + b = 1\n",
        "a0 = -4; a1 = f(a0, svm.w, svm.b, 1)\n",
        "b0 = 4; b1 = f(b0, svm.w, svm.b, 1)\n",
        "plt.plot([a0,b0], [a1,b1], 'k--')\n",
        "\n",
        "# w.x + b = -1\n",
        "a0 = -4; a1 = f(a0, svm.w, svm.b, -1)\n",
        "b0 = 4; b1 = f(b0, svm.w, svm.b, -1)\n",
        "plt.plot([a0,b0], [a1,b1], 'k--')"
      ],
      "metadata": {
        "colab": {
          "base_uri": "https://localhost:8080/",
          "height": 283
        },
        "id": "AaUbAZDyuw8z",
        "outputId": "71629e85-2e44-4e6d-9efe-775a98b3e745"
      },
      "execution_count": 17,
      "outputs": [
        {
          "output_type": "execute_result",
          "data": {
            "text/plain": [
              "[<matplotlib.lines.Line2D at 0x7f2d63119490>]"
            ]
          },
          "metadata": {},
          "execution_count": 17
        },
        {
          "output_type": "display_data",
          "data": {
            "text/plain": [
              "<Figure size 432x288 with 1 Axes>"
            ],
            "image/png": "[encoded data removed]"
          },
          "metadata": {
            "needs_background": "light"
          }
        }
      ]
    },
    {
      "cell_type": "markdown",
      "source": [
        "Now we can use our model to predict the classes of the samples in the testing dataset.\n",
        "\n",
        "The confusion matrix is used to evaluate the accuracy of our model."
      ],
      "metadata": {
        "id": "h76X4BZRuyLG"
      }
    },
    {
      "cell_type": "code",
      "source": [
        "y_pred = svm.predict(X_test)\n",
        "confusion_matrix(y_test, y_pred)"
      ],
      "metadata": {
        "colab": {
          "base_uri": "https://localhost:8080/"
        },
        "id": "hRfjg-RXuzUT",
        "outputId": "65b366f4-b154-41e7-ba55-3a665d28f0d7"
      },
      "execution_count": 18,
      "outputs": [
        {
          "output_type": "execute_result",
          "data": {
            "text/plain": [
              "array([[29,  0],\n",
              "       [ 7, 27]])"
            ]
          },
          "metadata": {},
          "execution_count": 18
        }
      ]
    },
    {
      "cell_type": "markdown",
      "source": [
        "1.2 Use Sci-ki Learn Functions¶\n",
        "\n",
        "Here we build the SVM using the powerful functions from sklearn, without defining the mathematical details by ourselves."
      ],
      "metadata": {
        "id": "LkGMb_7Fu1hK"
      }
    },
    {
      "cell_type": "code",
      "source": [
        "\n",
        "# LinearSVC is an existing class from sklearn, now we can just use it as well as all the functions within\n",
        "svc = LinearSVC() \n",
        "\n",
        "# fit the training data to the model\n",
        "svc.fit(X_train, y_train)"
      ],
      "metadata": {
        "colab": {
          "base_uri": "https://localhost:8080/"
        },
        "id": "cSUARav5u2l-",
        "outputId": "4bf481ec-baa0-41d5-ece5-ce1f721303a0"
      },
      "execution_count": 19,
      "outputs": [
        {
          "output_type": "execute_result",
          "data": {
            "text/plain": [
              "LinearSVC()"
            ]
          },
          "metadata": {},
          "execution_count": 19
        }
      ]
    },
    {
      "cell_type": "code",
      "source": [
        "plt.scatter(X_train[:, 0], X_train[:, 1], c=y_train, cmap='winter');\n",
        "ax = plt.gca()\n",
        "xlim = ax.get_xlim()\n",
        "w = svc.coef_[0]\n",
        "a = -w[0] / w[1]\n",
        "xx = np.linspace(xlim[0], xlim[1])\n",
        "yy = a * xx - svc.intercept_[0] / w[1]\n",
        "plt.plot(xx, yy)\n",
        "yy = a * xx - (svc.intercept_[0] - 1) / w[1]\n",
        "plt.plot(xx, yy, 'k--')\n",
        "yy = a * xx - (svc.intercept_[0] + 1) / w[1]\n",
        "plt.plot(xx, yy, 'k--')"
      ],
      "metadata": {
        "colab": {
          "base_uri": "https://localhost:8080/",
          "height": 283
        },
        "id": "gMCd9oLru4Fo",
        "outputId": "fd85b652-577d-4f57-9feb-75c344f0c611"
      },
      "execution_count": 20,
      "outputs": [
        {
          "output_type": "execute_result",
          "data": {
            "text/plain": [
              "[<matplotlib.lines.Line2D at 0x7f2d630aa8d0>]"
            ]
          },
          "metadata": {},
          "execution_count": 20
        },
        {
          "output_type": "display_data",
          "data": {
            "text/plain": [
              "<Figure size 432x288 with 1 Axes>"
            ],
            "image/png": "[encoded data removed]"
          },
          "metadata": {
            "needs_background": "light"
          }
        }
      ]
    },
    {
      "cell_type": "markdown",
      "source": [
        "Same as in 1.1, we now use our model to predict the classes of the samples in the testing dataset.\n",
        "\n",
        "The confusion matrix is used to evaluate the accuracy of our model."
      ],
      "metadata": {
        "id": "_uM0pyB2u5nm"
      }
    },
    {
      "cell_type": "code",
      "source": [
        "y_pred = svc.predict(X_test)\n",
        "confusion_matrix(y_test, y_pred)"
      ],
      "metadata": {
        "colab": {
          "base_uri": "https://localhost:8080/"
        },
        "id": "IQHNA2cRu6os",
        "outputId": "0d955541-d9e8-4293-e4b4-f10d897612c7"
      },
      "execution_count": 21,
      "outputs": [
        {
          "output_type": "execute_result",
          "data": {
            "text/plain": [
              "array([[29,  0],\n",
              "       [ 0, 34]])"
            ]
          },
          "metadata": {},
          "execution_count": 21
        }
      ]
    },
    {
      "cell_type": "markdown",
      "source": [
        "A simple example of SVM using sklearn linearSVM"
      ],
      "metadata": {
        "id": "cb3FS8RWu7_1"
      }
    },
    {
      "cell_type": "code",
      "source": [
        "# see more about the Iris dataset in section 3\n",
        "\n",
        "#  Load data\n",
        "iris = datasets.load_iris()\n",
        "#  We can just consider the first two features\n",
        "X = iris.data[:, :2] \n",
        "y = iris.target\n",
        "\n",
        "C = 1.0 # SVM regularization parameters\n",
        "svc = svm.SVC(kernel='linear', C=1).fit(X, y)\n",
        "\n",
        "# Create a grid for visualization\n",
        "x_min, x_max = X[:, 0].min() - 1, X[:, 0].max() + 1\n",
        "y_min, y_max = X[:, 1].min() - 1, X[:, 1].max() + 1\n",
        "h = (x_max / x_min)/100\n",
        "xx, yy = np.meshgrid(np.arange(x_min, x_max, h), np.arange(y_min, y_max, h))\n",
        "\n",
        "# Visualization of results\n",
        "plt.subplot(1, 1, 1)\n",
        "Z = svc.predict(np.c_[xx.ravel(), yy.ravel()])\n",
        "Z = Z.reshape(xx.shape)\n",
        "plt.contourf(xx, yy, Z, cmap=plt.cm.Paired, alpha=0.8)\n",
        "\n",
        "plt.scatter(X[:, 0], X[:, 1], c=y, cmap=plt.cm.Paired)\n",
        "plt.xlabel('Sepal length')\n",
        "plt.ylabel('Sepal width')\n",
        "plt.xlim(xx.min(), xx.max())\n",
        "plt.title('SVC with linear kernel')\n",
        "plt.show()"
      ],
      "metadata": {
        "colab": {
          "base_uri": "https://localhost:8080/",
          "height": 249
        },
        "id": "iezRiOkMu9Rn",
        "outputId": "ea500a88-4c0b-4d1f-c687-9055a0541cf6"
      },
      "execution_count": 22,
      "outputs": [
        {
          "output_type": "error",
          "ename": "AttributeError",
          "evalue": "ignored",
          "traceback": [
            "\u001b[0;31m---------------------------------------------------------------------------\u001b[0m",
            "\u001b[0;31mAttributeError\u001b[0m                            Traceback (most recent call last)",
            "\u001b[0;32m<ipython-input-22-3ca86839ca36>\u001b[0m in \u001b[0;36m<module>\u001b[0;34m\u001b[0m\n\u001b[1;32m      8\u001b[0m \u001b[0;34m\u001b[0m\u001b[0m\n\u001b[1;32m      9\u001b[0m \u001b[0mC\u001b[0m \u001b[0;34m=\u001b[0m \u001b[0;36m1.0\u001b[0m \u001b[0;31m# SVM regularization parameters\u001b[0m\u001b[0;34m\u001b[0m\u001b[0;34m\u001b[0m\u001b[0m\n\u001b[0;32m---> 10\u001b[0;31m \u001b[0msvc\u001b[0m \u001b[0;34m=\u001b[0m \u001b[0msvm\u001b[0m\u001b[0;34m.\u001b[0m\u001b[0mSVC\u001b[0m\u001b[0;34m(\u001b[0m\u001b[0mkernel\u001b[0m\u001b[0;34m=\u001b[0m\u001b[0;34m'linear'\u001b[0m\u001b[0;34m,\u001b[0m \u001b[0mC\u001b[0m\u001b[0;34m=\u001b[0m\u001b[0;36m1\u001b[0m\u001b[0;34m)\u001b[0m\u001b[0;34m.\u001b[0m\u001b[0mfit\u001b[0m\u001b[0;34m(\u001b[0m\u001b[0mX\u001b[0m\u001b[0;34m,\u001b[0m \u001b[0my\u001b[0m\u001b[0;34m)\u001b[0m\u001b[0;34m\u001b[0m\u001b[0;34m\u001b[0m\u001b[0m\n\u001b[0m\u001b[1;32m     11\u001b[0m \u001b[0;34m\u001b[0m\u001b[0m\n\u001b[1;32m     12\u001b[0m \u001b[0;31m# Create a grid for visualization\u001b[0m\u001b[0;34m\u001b[0m\u001b[0;34m\u001b[0m\u001b[0;34m\u001b[0m\u001b[0m\n",
            "\u001b[0;31mAttributeError\u001b[0m: 'SVM' object has no attribute 'SVC'"
          ]
        }
      ]
    },
    {
      "cell_type": "markdown",
      "source": [
        "SVM with different kernels with the Iris dataset\n",
        "The Iris flower data set or Fisher's Iris data set is a multivariate data set introduced by the British statistician and biologist Ronald Fisher in his 1936 paper as an example of linear discriminant analysis. It is perhaps the best known database to be found in the pattern recognition literature.\n",
        "\n",
        "More information can be found here: https://archive.ics.uci.edu/ml/datasets/iris\n",
        "\n",
        "Classes: 3 - 3 kinds of iris\n",
        "Samples per class: 50\n",
        "Samples total: 150\n",
        "Dimensionality: 4 - 4 parameters of the iris flowers\n",
        "Features: real, positive"
      ],
      "metadata": {
        "id": "cBfzNd9ku-1o"
      }
    },
    {
      "cell_type": "code",
      "source": [
        "X, y = datasets.load_iris(return_X_y = True) \n",
        "\n",
        "# returns all the data as X, and their corresponding classes as y\n",
        "# 4 columns in total, for the four parameters\n",
        "# check the document for load_iris() function: https://scikit-learn.org/stable/modules/generated/sklearn.datasets"
      ],
      "metadata": {
        "id": "2e3SFaDIvBeM"
      },
      "execution_count": 23,
      "outputs": []
    },
    {
      "cell_type": "markdown",
      "source": [
        "\n",
        "Trim the data to 2 variables/parameters and 2 classes, then scale the data"
      ],
      "metadata": {
        "id": "IUdYflFVvCbq"
      }
    },
    {
      "cell_type": "code",
      "source": [
        "X_trimmed = X[:, 1:3] # keep all the rows, column 1 and 2\n",
        "X_trimmed = X_trimmed[y != 0, :] # delete the data in X that belongs to class 0\n",
        "y_trimmed = y[y != 0] # delete all the class 0 tags in y\n",
        "\n",
        "# scale the data for better performance\n",
        "create_scaler = create_scaler_minmax\n",
        "scaler = create_scaler()\n",
        "scaler.fit(X_trimmed)\n",
        "X_trimmed = scaler.transform(X_trimmed)"
      ],
      "metadata": {
        "id": "rKIVekKivDcT"
      },
      "execution_count": 24,
      "outputs": []
    },
    {
      "cell_type": "markdown",
      "source": [
        "\n",
        "Plot the trimmed data with different colors"
      ],
      "metadata": {
        "id": "D03iSJ5fvEuZ"
      }
    },
    {
      "cell_type": "code",
      "source": [
        "plt.scatter(X_trimmed[:, 0], X_trimmed[:, 1], # these are the data of the 2 parameters picked\n",
        "            c = y_trimmed, # y is the class of each dot, represented by blue and red\n",
        "            s = 30, cmap = plt.cm.bwr)\n",
        "\n",
        "plt.title('Visualization of reduced iris problem')\n",
        "plt.xlabel('Sepal width')  # X_trimmed[:, 0], column 0\n",
        "plt.ylabel('Petal length') # X_trimmed[:, 1], column 1\n",
        "plt.show()"
      ],
      "metadata": {
        "colab": {
          "base_uri": "https://localhost:8080/",
          "height": 295
        },
        "id": "6Zg_7lVuvF5g",
        "outputId": "fd789826-ed9a-4abf-ada2-2e9be7d809b5"
      },
      "execution_count": 25,
      "outputs": [
        {
          "output_type": "display_data",
          "data": {
            "text/plain": [
              "<Figure size 432x288 with 1 Axes>"
            ],
            "image/png": "[encoded data removed]"
          },
          "metadata": {
            "needs_background": "light"
          }
        }
      ]
    },
    {
      "cell_type": "markdown",
      "source": [
        "3.1 Build the Support Vector Machines Classifier\n",
        "\n",
        "Here we will build multiple classifiers for this single dataset, in a single interactive plot, to show the difference causing by the choice of the kernel. SVM also has many other parameters, the choices of these parameters will lead to huge difference of the results.\n",
        "\n",
        "A full list of parameters can be found here: https://scikit-learn.org/stable/modules/generated/sklearn.svm.SVC.html"
      ],
      "metadata": {
        "id": "NgVdSXoBvHXL"
      }
    },
    {
      "cell_type": "code",
      "source": [
        "# Here we use closure to store the related variables\n",
        "def create_plot_svm_classification_kernels(_X, _y):\n",
        "    X, y = _X, _y\n",
        "    \n",
        "    def plot_svc_kernel(C = 1, kernel = 'linear', expand = 3.1, intensity = 0.5):\n",
        "        # kernel{‘linear’, ‘poly’, ‘rbf’, ‘sigmoid’, ‘precomputed’}, default=’rbf’\n",
        "        \n",
        "        # build the model here, clf is the model\n",
        "        if kernel.startswith('poly'):\n",
        "            clf = SVC(kernel = 'poly', C = C, gamma = 'auto', degree = int(kernel[4:]))\n",
        "            # degree, int, default=3, degree of the polynomial kernel function (‘poly’) \n",
        "            # Ignored by all other kernels. That's why the poly kernel is picked out here\n",
        "    \n",
        "        else:\n",
        "            clf = SVC(kernel = kernel, C = C, gamma = 'auto')\n",
        "            # gamma{‘scale’, ‘auto’} or float, default=’scale’, Kernel coefficient for ‘rbf’, ‘poly’ and ‘sigmoid’\n",
        "            # other parameters take default value\n",
        "        \n",
        "        # fit the iris training data to the model we just built\n",
        "        # the modeling is all done\n",
        "        clf.fit(X, y)\n",
        "    \n",
        "    \n",
        "        # plot the result (both the training data and the classifier)\n",
        "        # since we are going to present different kernel, this plotting program is complex, just for the teaching purpose\n",
        "        # under normal settings, we only need to plot a single kernel\n",
        "        fig, ax = plt.subplots()\n",
        "        ax.plot((np.min(X[:, 0]) - expand, np.max(X[:, 0]) + expand), \n",
        "                (np.min(X[:, 1]) - expand, np.max(X[:, 1]) + expand), alpha=0.0)\n",
        "        \n",
        "        xlim = ax.get_xlim()\n",
        "        ylim = ax.get_ylim()\n",
        "        \n",
        "        xx = np.linspace(xlim[0], xlim[1], 400)\n",
        "        yy = np.linspace(ylim[0], ylim[1], 200)\n",
        "        \n",
        "        YY, XX = np.meshgrid(yy, xx)\n",
        "        xy = np.vstack([XX.ravel(), YY.ravel()]).T\n",
        "        Z = clf.decision_function(xy).reshape(XX.shape)\n",
        "        v = max(-np.min(Z), np.max(Z))\n",
        "        cf = ax.contourf(XX, YY, Z, 200, cmap='coolwarm', \n",
        "                         norm = mpl.colors.Normalize(vmin=-v, vmax=v), alpha=intensity)\n",
        "        \n",
        "        ax.scatter(X[:, 0], X[:, 1], c=y, s=30, cmap=plt.cm.bwr)\n",
        "        ax.contour(XX, YY, Z, colors='k', levels=[-1, 0, 1], alpha=0.8,\n",
        "                   linestyles=['--', '-', '--'], linewidths=[2, 5, 2])\n",
        "        ax.scatter(clf.support_vectors_[:, 0], clf.support_vectors_[:, 1], s=100,\n",
        "                   linewidth=1, facecolors='none', edgecolors='k')\n",
        "        \n",
        "        plt.xlabel('Sepal width')\n",
        "        plt.ylabel('Petal length')\n",
        "        plt.title('Support Vector Machines Classifier: C=%s, %s kernel.' % (str(C), kernel))\n",
        "        plt.show()\n",
        "        \n",
        "    return plot_svc_kernel"
      ],
      "metadata": {
        "id": "16Hu3-S0vI-W"
      },
      "execution_count": 26,
      "outputs": []
    },
    {
      "cell_type": "markdown",
      "source": [
        "Build an interactive diagram with widgets, only for teaching purpose."
      ],
      "metadata": {
        "id": "vwMOZkVmvKOw"
      }
    },
    {
      "cell_type": "code",
      "source": [
        "kernels = ['linear'] + ['poly'+str(x) for x in range(1, 9)] + ['rbf']\n",
        "С_widget = widgets.FloatLogSlider(\n",
        "    value=1,\n",
        "    base=10,\n",
        "    min=-4,\n",
        "    max=4,\n",
        "    step=0.5,\n",
        "    continuous_update=False,\n",
        "    description='C')\n",
        "expand_widget = widgets.FloatSlider(\n",
        "    value=3.1,\n",
        "    min=0,\n",
        "    max=10,\n",
        "    step=0.1,\n",
        "    continuous_update=False,\n",
        "    description='expand:')\n",
        "intensity_widget = widgets.FloatSlider(\n",
        "    value=0.5,\n",
        "    min=0.1,\n",
        "    max=0.9,\n",
        "    step=0.1,\n",
        "    continuous_update=False,\n",
        "    description='contour intensity:')\n",
        "\n",
        "# Call the function we just made\n",
        "interact(create_plot_svm_classification_kernels(X_trimmed, y_trimmed), \n",
        "         C = С_widget, kernel = kernels, expand = expand_widget, intensity = intensity_widget)"
      ],
      "metadata": {
        "colab": {
          "base_uri": "https://localhost:8080/",
          "height": 460,
          "referenced_widgets": [
            "14da5ea230c042e48cd4f9ab1021a8d3",
            "62d472f1257948f79324d45db8cab54d",
            "15d521d3253849f2b4476ed6f40a9da1",
            "52c525f51316485b900d3c41024740c7",
            "e2b475cb18cb484b80060c59b70f87a1",
            "770dd5c96a664905bacaa455b9246b23",
            "f7ddc35450c04865b5249af8e4fb7432",
            "bcab558a5c77490b8c1b1ff7808dbc10",
            "8ac570e4e8e04731925a1d8742754363",
            "2dd7c4de23b6418ebe7ca51fe6a32e8e",
            "ebae5fba93dd4c239fc52f06b3941375",
            "3aa2dd167e4d4190a4155395d48434c7",
            "ce03aad9efc64d09a4ce2d8e9e810789",
            "299d286fb1a141c8afcc022279b12b7a",
            "b1ffeb34bac84dc6947c4588a726a574",
            "19cc2757a5e345f685ceb048acb95f17"
          ]
        },
        "id": "E95vkYATvLc_",
        "outputId": "1dbeadb1-7ca0-40d9-aff2-bdb46d0e9c11"
      },
      "execution_count": 27,
      "outputs": [
        {
          "output_type": "display_data",
          "data": {
            "text/plain": [
              "interactive(children=(FloatLogSlider(value=1.0, continuous_update=False, description='C', min=-4.0, step=0.5),…"
            ],
            "application/vnd.jupyter.widget-view+json": {
              "version_major": 2,
              "version_minor": 0,
              "model_id": "14da5ea230c042e48cd4f9ab1021a8d3"
            }
          },
          "metadata": {}
        },
        {
          "output_type": "execute_result",
          "data": {
            "text/plain": [
              "<function __main__.create_plot_svm_classification_kernels.<locals>.plot_svc_kernel(C=1, kernel='linear', expand=3.1, intensity=0.5)>"
            ]
          },
          "metadata": {},
          "execution_count": 27
        }
      ]
    }
  ]
}