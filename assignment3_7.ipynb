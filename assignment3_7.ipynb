{
  "nbformat": 4,
  "nbformat_minor": 0,
  "metadata": {
    "colab": {
      "provenance": [],
      "authorship_tag": "ABX9TyPYgkldm/FDc66l4agoIGgH",
      "include_colab_link": true
    },
    "kernelspec": {
      "name": "python3",
      "display_name": "Python 3"
    },
    "language_info": {
      "name": "python"
    }
  },
  "cells": [
    {
      "cell_type": "markdown",
      "metadata": {
        "id": "view-in-github",
        "colab_type": "text"
      },
      "source": [
        "<a href=\"https://colab.research.google.com/github/01Wood/SensenWang/blob/main/assignment3_7.ipynb\" target=\"_parent\"><img src=\"https://colab.research.google.com/assets/colab-badge.svg\" alt=\"Open In Colab\"/></a>"
      ]
    },
    {
      "cell_type": "markdown",
      "source": [
        "###3.7 Neural Networks TensorFlow 2\n",
        "Here we provide a simple example of Neural Network using TensorFlow 2 with MNIST dataset.\n",
        "\n",
        "Source:\n",
        "\n",
        "https://www.tensorflow.org/tutorials/quickstart/beginner"
      ],
      "metadata": {
        "id": "wPnF4tFAv4rj"
      }
    },
    {
      "cell_type": "code",
      "source": [
        "import tensorflow as tf"
      ],
      "metadata": {
        "id": "Tqik9Sgvv7Br"
      },
      "execution_count": 1,
      "outputs": []
    },
    {
      "cell_type": "markdown",
      "source": [
        "##1. Load and prepare the MNIST dataset\n",
        "Reference:\n",
        "\n",
        "https://www.tensorflow.org/api_docs/python/tf/keras/datasets/mnist/load_data\n",
        "\n",
        "This is a dataset of 60,000 28x28 grayscale images of the 10 digits, along with a test set of 10,000 images. It is considered another classic dataset in machine learning area. The images are handwritings of English letters. Researchers are using it as a training set to build neural network models that would recognize human handwritings.\n",
        "\n",
        "The dataset we import from tf.keras is not the original image set, but numerical matrix that transfromed from the images via certain kernels.\n",
        "\n",
        "tf.keras.datasets.mnist.load_data() will return tuples of arrays:"
      ],
      "metadata": {
        "id": "dmzOunKZv8t7"
      }
    },
    {
      "cell_type": "markdown",
      "source": [
        "* x_train: uint8 NumPy array of grayscale image data with shapes (60000, 28, 28), containing the training data. Pixel values range from 0 to 255.\n",
        "\n",
        "* y_train: uint8 NumPy array of digit labels (integers in range 0-9) with shape (60000,) for the training data.\n",
        "\n",
        "* x_test: uint8 NumPy array of grayscale image data with shapes (10000, 28, 28), containing the test data. Pixel values range from 0 to 255.\n",
        "\n",
        "* y_test: uint8 NumPy array of digit labels (integers in range 0-9) with shape (10000,) for the test data.\n",
        "\n",
        "\n"
      ],
      "metadata": {
        "id": "j72TUSfHv_ul"
      }
    },
    {
      "cell_type": "code",
      "source": [
        "# load the dataset\n",
        "mnist = tf.keras.datasets.mnist\n",
        "\n",
        "# convert the samples from integers to floating-point numbers\n",
        "(x_train, y_train), (x_test, y_test) = mnist.load_data()\n",
        "x_train, x_test = x_train / 255.0, x_test / 255.0"
      ],
      "metadata": {
        "colab": {
          "base_uri": "https://localhost:8080/"
        },
        "id": "VLEzT85AwIdb",
        "outputId": "cd65bee4-6577-413d-fc0b-8c2b50bbcc86"
      },
      "execution_count": 2,
      "outputs": [
        {
          "output_type": "stream",
          "name": "stdout",
          "text": [
            "Downloading data from https://storage.googleapis.com/tensorflow/tf-keras-datasets/mnist.npz\n",
            "11490434/11490434 [==============================] - 0s 0us/step\n"
          ]
        }
      ]
    },
    {
      "cell_type": "markdown",
      "source": [
        "## 2. Build the tf.keras.Sequential model by stacking layers."
      ],
      "metadata": {
        "id": "1yeR_gdHwJsF"
      }
    },
    {
      "cell_type": "markdown",
      "source": [
        "Choose an optimizer and loss function for training:"
      ],
      "metadata": {
        "id": "gTiXibyKwLlb"
      }
    },
    {
      "cell_type": "code",
      "source": [
        "model = tf.keras.models.Sequential([\n",
        "  tf.keras.layers.Flatten(input_shape=(28, 28)),\n",
        "  tf.keras.layers.Dense(128, activation='relu'),\n",
        "  tf.keras.layers.Dropout(0.2),\n",
        "  tf.keras.layers.Dense(10)\n",
        "])"
      ],
      "metadata": {
        "id": "_KXOSPSSwN0R"
      },
      "execution_count": 3,
      "outputs": []
    },
    {
      "cell_type": "markdown",
      "source": [
        "For each example the model returns a vector of \"logits\" or \"log-odds\" scores, one for each class."
      ],
      "metadata": {
        "id": "mwWXtM--wOzE"
      }
    },
    {
      "cell_type": "code",
      "source": [
        "predictions = model(x_train[:1]).numpy()\n",
        "predictions"
      ],
      "metadata": {
        "colab": {
          "base_uri": "https://localhost:8080/"
        },
        "id": "yMCks8cRwPum",
        "outputId": "7b048945-c18a-42d2-f81f-35c62c18c2fe"
      },
      "execution_count": 4,
      "outputs": [
        {
          "output_type": "execute_result",
          "data": {
            "text/plain": [
              "array([[ 0.2627324 ,  0.03959125,  0.21992244, -0.3401888 ,  0.62115407,\n",
              "        -0.294676  , -0.05768569, -0.08771984, -0.37523183,  0.34173158]],\n",
              "      dtype=float32)"
            ]
          },
          "metadata": {},
          "execution_count": 4
        }
      ]
    },
    {
      "cell_type": "markdown",
      "source": [
        "The tf.nn.softmax function converts these logits to \"probabilities\" for each class:"
      ],
      "metadata": {
        "id": "fPJ1RmT-wRMD"
      }
    },
    {
      "cell_type": "code",
      "source": [
        "tf.nn.softmax(predictions).numpy()"
      ],
      "metadata": {
        "colab": {
          "base_uri": "https://localhost:8080/"
        },
        "id": "uSYQlrmrwSI3",
        "outputId": "21463fe8-f9cc-4f67-839e-2b561bcaae1d"
      },
      "execution_count": 5,
      "outputs": [
        {
          "output_type": "execute_result",
          "data": {
            "text/plain": [
              "array([[0.11976259, 0.09581031, 0.11474377, 0.06553539, 0.17138854,\n",
              "        0.06858701, 0.08692914, 0.08435712, 0.0632786 , 0.1296075 ]],\n",
              "      dtype=float32)"
            ]
          },
          "metadata": {},
          "execution_count": 5
        }
      ]
    },
    {
      "cell_type": "markdown",
      "source": [
        "The losses.SparseCategoricalCrossentropy loss takes a vector of logits and a True index and returns a scalar loss for each example."
      ],
      "metadata": {
        "id": "TJUSVEczwTyT"
      }
    },
    {
      "cell_type": "code",
      "source": [
        "loss_fn = tf.keras.losses.SparseCategoricalCrossentropy(from_logits=True)"
      ],
      "metadata": {
        "id": "BfQvyi-nwUqd"
      },
      "execution_count": 6,
      "outputs": []
    },
    {
      "cell_type": "markdown",
      "source": [
        "This loss is equal to the negative log probability of the true class: It is zero if the model is sure of the correct class.\n",
        "\n",
        "This untrained model gives probabilities close to random (1/10 for each class), so the initial loss should be close to -tf.math.log(1/10) ~= 2.3."
      ],
      "metadata": {
        "id": "pdkQE8L2wVzf"
      }
    },
    {
      "cell_type": "code",
      "source": [
        "loss_fn(y_train[:1], predictions).numpy()"
      ],
      "metadata": {
        "colab": {
          "base_uri": "https://localhost:8080/"
        },
        "id": "9aSOR0wcwWtm",
        "outputId": "0731dc61-221f-48f5-85f9-c2b6e519d8b7"
      },
      "execution_count": 7,
      "outputs": [
        {
          "output_type": "execute_result",
          "data": {
            "text/plain": [
              "2.6796522"
            ]
          },
          "metadata": {},
          "execution_count": 7
        }
      ]
    },
    {
      "cell_type": "code",
      "source": [
        "model.compile(optimizer='adam',\n",
        "              loss=loss_fn,\n",
        "              metrics=['accuracy'])"
      ],
      "metadata": {
        "id": "JqHCSQM1wXse"
      },
      "execution_count": 8,
      "outputs": []
    },
    {
      "cell_type": "markdown",
      "source": [
        "The Model.fit method adjusts the model parameters to minimize the loss:"
      ],
      "metadata": {
        "id": "yfcpBcxQwYmO"
      }
    },
    {
      "cell_type": "code",
      "source": [
        "model.fit(x_train, y_train, epochs=5)"
      ],
      "metadata": {
        "colab": {
          "base_uri": "https://localhost:8080/"
        },
        "id": "9LX-B30BwZtX",
        "outputId": "47689557-7350-46b0-da06-375781232399"
      },
      "execution_count": 9,
      "outputs": [
        {
          "output_type": "stream",
          "name": "stdout",
          "text": [
            "Epoch 1/5\n",
            "1875/1875 [==============================] - 8s 4ms/step - loss: 0.2946 - accuracy: 0.9150\n",
            "Epoch 2/5\n",
            "1875/1875 [==============================] - 5s 3ms/step - loss: 0.1424 - accuracy: 0.9569\n",
            "Epoch 3/5\n",
            "1875/1875 [==============================] - 5s 3ms/step - loss: 0.1084 - accuracy: 0.9673\n",
            "Epoch 4/5\n",
            "1875/1875 [==============================] - 5s 3ms/step - loss: 0.0866 - accuracy: 0.9733\n",
            "Epoch 5/5\n",
            "1875/1875 [==============================] - 5s 3ms/step - loss: 0.0770 - accuracy: 0.9754\n"
          ]
        },
        {
          "output_type": "execute_result",
          "data": {
            "text/plain": [
              "<keras.callbacks.History at 0x7fa5aead7dd0>"
            ]
          },
          "metadata": {},
          "execution_count": 9
        }
      ]
    },
    {
      "cell_type": "markdown",
      "source": [
        "## 3. Evaluate the Model\n",
        "The Model.evaluate method checks the models performance, usually on a \"Validation-set\" or \"Test-set\"."
      ],
      "metadata": {
        "id": "p6GcGoP8wbCu"
      }
    },
    {
      "cell_type": "code",
      "source": [
        "\n",
        "model.evaluate(x_test,  y_test, verbose=2)"
      ],
      "metadata": {
        "colab": {
          "base_uri": "https://localhost:8080/"
        },
        "id": "QWsqsRCLwcp3",
        "outputId": "38caf629-7c42-4930-d07c-2b19b4a0ddfb"
      },
      "execution_count": 10,
      "outputs": [
        {
          "output_type": "stream",
          "name": "stdout",
          "text": [
            "313/313 - 1s - loss: 0.0767 - accuracy: 0.9766 - 562ms/epoch - 2ms/step\n"
          ]
        },
        {
          "output_type": "execute_result",
          "data": {
            "text/plain": [
              "[0.07668141275644302, 0.9765999913215637]"
            ]
          },
          "metadata": {},
          "execution_count": 10
        }
      ]
    },
    {
      "cell_type": "markdown",
      "source": [
        "The image classifier is now trained to ~98% accuracy on this dataset. To learn more, read the TensorFlow tutorials.\n",
        "\n",
        "If you want your model to return a probability, you can wrap the trained model, and attach the softmax to it:"
      ],
      "metadata": {
        "id": "be7194E5weLG"
      }
    },
    {
      "cell_type": "code",
      "source": [
        "probability_model = tf.keras.Sequential([\n",
        "  model,\n",
        "  tf.keras.layers.Softmax()\n",
        "])"
      ],
      "metadata": {
        "id": "Z9VlwU9fwe_L"
      },
      "execution_count": 11,
      "outputs": []
    },
    {
      "cell_type": "code",
      "source": [
        "probability_model(x_test[:5])\n"
      ],
      "metadata": {
        "colab": {
          "base_uri": "https://localhost:8080/"
        },
        "id": "to7Q8ixGwh6M",
        "outputId": "0aae51a8-367e-479c-ba5b-84f19db21cb7"
      },
      "execution_count": 12,
      "outputs": [
        {
          "output_type": "execute_result",
          "data": {
            "text/plain": [
              "<tf.Tensor: shape=(5, 10), dtype=float32, numpy=\n",
              "array([[1.23594987e-06, 3.56382546e-09, 1.01924411e-06, 2.91660865e-04,\n",
              "        3.97307937e-10, 1.61816442e-05, 1.07635537e-12, 9.99484539e-01,\n",
              "        2.29895545e-06, 2.03017014e-04],\n",
              "       [7.68936133e-08, 2.30067126e-05, 9.99976277e-01, 2.29089963e-07,\n",
              "        5.81999401e-13, 4.77256634e-08, 5.61400215e-09, 3.97386247e-12,\n",
              "        3.17605554e-07, 3.97265554e-13],\n",
              "       [2.58415547e-08, 9.98687685e-01, 1.29411826e-04, 1.28368242e-06,\n",
              "        3.43678839e-05, 3.02423700e-06, 1.27242527e-06, 1.07381423e-03,\n",
              "        6.84508559e-05, 7.02746888e-07],\n",
              "       [9.99957561e-01, 2.32535080e-09, 6.12763188e-06, 2.69289551e-08,\n",
              "        9.06808623e-07, 4.50993230e-06, 2.65620911e-05, 1.07662927e-07,\n",
              "        1.59124536e-08, 4.11412884e-06],\n",
              "       [1.31302059e-07, 3.61872288e-09, 1.56623864e-05, 2.07263682e-07,\n",
              "        9.87157643e-01, 3.89636079e-06, 4.60280580e-06, 1.92498686e-04,\n",
              "        2.21047299e-06, 1.26231145e-02]], dtype=float32)>"
            ]
          },
          "metadata": {},
          "execution_count": 12
        }
      ]
    }
  ]
}