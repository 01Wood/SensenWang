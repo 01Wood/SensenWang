{
  "nbformat": 4,
  "nbformat_minor": 0,
  "metadata": {
    "colab": {
      "provenance": [],
      "authorship_tag": "ABX9TyMQmxUPJx9Ym2rRoqVxombm",
      "include_colab_link": true
    },
    "kernelspec": {
      "name": "python3",
      "display_name": "Python 3"
    },
    "language_info": {
      "name": "python"
    }
  },
  "cells": [
    {
      "cell_type": "markdown",
      "metadata": {
        "id": "view-in-github",
        "colab_type": "text"
      },
      "source": [
        "<a href=\"https://colab.research.google.com/github/01Wood/SensenWang/blob/main/Assignment2_3.ipynb\" target=\"_parent\"><img src=\"https://colab.research.google.com/assets/colab-badge.svg\" alt=\"Open In Colab\"/></a>"
      ]
    },
    {
      "cell_type": "code",
      "execution_count": 4,
      "metadata": {
        "colab": {
          "base_uri": "https://localhost:8080/"
        },
        "id": "zMBguD6ddZ3R",
        "outputId": "b19c5fe9-2aaf-44b5-a7fa-76f344965544"
      },
      "outputs": [
        {
          "output_type": "stream",
          "name": "stdout",
          "text": [
            "a=\n",
            " [[1 2]\n",
            " [3 4]\n",
            " [5 6]]\n",
            "a.T=\n",
            " [[1 3 5]\n",
            " [2 4 6]]\n",
            "a.transpose()=\n",
            " [[1 3 5]\n",
            " [2 4 6]]\n"
          ]
        }
      ],
      "source": [
        "import numpy as np\n",
        "# transpose\n",
        "a = np.array(([1,2], [3,4],[ 5,6]))\n",
        "print('a=\\n',a)\n",
        "print('a.T=\\n',a.T)\n",
        "print('a.transpose()=\\n',a.transpose())"
      ]
    },
    {
      "cell_type": "code",
      "source": [
        "# reshape\n",
        "a = np.array(([1,2], [3,4], [5,6]))\n",
        "print('a\\n', a)\n",
        "\n",
        "b = a.reshape((2,3))\n",
        "print('b\\n', b)\n",
        "\n",
        "c = a.flatten()\n",
        "print('c\\n', c)\n",
        "\n",
        "# C order, row order\n",
        "d = a.flatten(order = 'C')\n",
        "print('d\\n', d)\n",
        "\n",
        "# Fortran order, column order\n",
        "e = a.flatten(order = 'F')\n",
        "print('e\\n', e)"
      ],
      "metadata": {
        "colab": {
          "base_uri": "https://localhost:8080/"
        },
        "id": "-dGp34GEeZAT",
        "outputId": "f3a580f3-517c-40bf-adff-7af4f06105a4"
      },
      "execution_count": 5,
      "outputs": [
        {
          "output_type": "stream",
          "name": "stdout",
          "text": [
            "a\n",
            " [[1 2]\n",
            " [3 4]\n",
            " [5 6]]\n",
            "b\n",
            " [[1 2 3]\n",
            " [4 5 6]]\n",
            "c\n",
            " [1 2 3 4 5 6]\n",
            "d\n",
            " [1 2 3 4 5 6]\n",
            "e\n",
            " [1 3 5 2 4 6]\n"
          ]
        }
      ]
    },
    {
      "cell_type": "code",
      "source": [
        "# stacking\n",
        "a=np.full((3,2),1.)\n",
        "b=np.full((3,2),2.)\n",
        "c=np.full((3,2),3.)\n",
        "\n",
        "print('a=',a)\n",
        "print('b=',b)\n",
        "print('c=',c)\n",
        "\n",
        "print('hstack=',np.hstack((a,b,c)))\n",
        "print('vstack=',np.vstack((a,b,c)))"
      ],
      "metadata": {
        "colab": {
          "base_uri": "https://localhost:8080/"
        },
        "id": "EKbvStDzehjD",
        "outputId": "2e891ad0-aff4-40b1-ff9a-0b716ee75178"
      },
      "execution_count": 6,
      "outputs": [
        {
          "output_type": "stream",
          "name": "stdout",
          "text": [
            "a= [[1. 1.]\n",
            " [1. 1.]\n",
            " [1. 1.]]\n",
            "b= [[2. 2.]\n",
            " [2. 2.]\n",
            " [2. 2.]]\n",
            "c= [[3. 3.]\n",
            " [3. 3.]\n",
            " [3. 3.]]\n",
            "hstack= [[1. 1. 2. 2. 3. 3.]\n",
            " [1. 1. 2. 2. 3. 3.]\n",
            " [1. 1. 2. 2. 3. 3.]]\n",
            "vstack= [[1. 1.]\n",
            " [1. 1.]\n",
            " [1. 1.]\n",
            " [2. 2.]\n",
            " [2. 2.]\n",
            " [2. 2.]\n",
            " [3. 3.]\n",
            " [3. 3.]\n",
            " [3. 3.]]\n"
          ]
        }
      ]
    },
    {
      "cell_type": "code",
      "source": [
        "# Making Regression Models\n",
        "import pandas as pd\n",
        "import numpy as np\n",
        "import matplotlib.pyplot as plt\n",
        "from sklearn import linear_model \n",
        "from sklearn.linear_model import LinearRegression\n",
        "\n",
        "x=np.array([1,2,2,2,3,3,4,4,4,4,5,6,6,7,9,9,10,10])\n",
        "y=np.array([23,25,26,21,37,32,27,25,33,41,49,45,61,52,65,59,77,61])\n",
        "\n",
        "linreg=LinearRegression()\n",
        "x=x.reshape(-1,1)\n",
        "linreg.fit(x,y)\n",
        "y_pred=linreg.predict(x)\n",
        "plt.scatter(x,y)\n",
        "plt.plot(x,y_pred,color='blue')"
      ],
      "metadata": {
        "colab": {
          "base_uri": "https://localhost:8080/",
          "height": 283
        },
        "id": "Exupw9UEetQe",
        "outputId": "821b2bf2-2939-4c59-d15a-04633c5202f9"
      },
      "execution_count": 7,
      "outputs": [
        {
          "output_type": "execute_result",
          "data": {
            "text/plain": [
              "[<matplotlib.lines.Line2D at 0x7f5e4f1ff310>]"
            ]
          },
          "metadata": {},
          "execution_count": 7
        },
        {
          "output_type": "display_data",
          "data": {
            "text/plain": [
              "<Figure size 432x288 with 1 Axes>"
            ],
            "image/png": "[encoded data removed]"
          },
          "metadata": {
            "needs_background": "light"
          }
        }
      ]
    },
    {
      "cell_type": "code",
      "source": [
        "# generate related variables\n",
        "from numpy import mean\n",
        "from numpy import std\n",
        "from numpy.random import randn\n",
        "from numpy.random import seed\n",
        "from matplotlib import pyplot\n",
        "# seed random number generator\n",
        "seed(1)\n",
        "# prepare data\n",
        "data1 = 20 * randn(1000) + 100\n",
        "data2 = data1 + (10 * randn(1000) + 50)\n",
        "# summarize\n",
        "print('data1: mean=%.3f stdv=%.3f' % (mean(data1), std(data1)))\n",
        "print('data2: mean=%.3f stdv=%.3f' % (mean(data2), std(data2)))\n",
        "# plot\n",
        "pyplot.scatter(data1, data2)\n",
        "pyplot.show()"
      ],
      "metadata": {
        "colab": {
          "base_uri": "https://localhost:8080/",
          "height": 301
        },
        "id": "D67CUVOqe2Fw",
        "outputId": "d8e95e1a-8ebb-43fc-c587-24c5be194769"
      },
      "execution_count": 8,
      "outputs": [
        {
          "output_type": "stream",
          "name": "stdout",
          "text": [
            "data1: mean=100.776 stdv=19.620\n",
            "data2: mean=151.050 stdv=22.358\n"
          ]
        },
        {
          "output_type": "display_data",
          "data": {
            "text/plain": [
              "<Figure size 432x288 with 1 Axes>"
            ],
            "image/png": "[encoded data removed]"
          },
          "metadata": {
            "needs_background": "light"
          }
        }
      ]
    }
  ]
}